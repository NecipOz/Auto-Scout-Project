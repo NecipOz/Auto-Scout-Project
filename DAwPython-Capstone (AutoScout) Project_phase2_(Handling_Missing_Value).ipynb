{
 "cells": [
  {
   "cell_type": "markdown",
   "metadata": {},
   "source": [
    "# Phase-2 Handling Missing Values"
   ]
  },
  {
   "cell_type": "code",
   "execution_count": 1,
   "metadata": {},
   "outputs": [],
   "source": [
    "import pandas as pd\n",
    "import numpy as np\n",
    "import matplotlib.pyplot as plt\n",
    "import seaborn as sns\n",
    "from scipy import stats\n",
    "from scipy import math"
   ]
  },
  {
   "cell_type": "code",
   "execution_count": 2,
   "metadata": {},
   "outputs": [],
   "source": [
    "auto_org = pd.read_csv('auto_scout_clean.csv')"
   ]
  },
  {
   "cell_type": "code",
   "execution_count": 3,
   "metadata": {},
   "outputs": [],
   "source": [
    "auto = auto_org.copy()"
   ]
  },
  {
   "cell_type": "code",
   "execution_count": 4,
   "metadata": {},
   "outputs": [
    {
     "data": {
      "text/html": [
       "<div>\n",
       "<style scoped>\n",
       "    .dataframe tbody tr th:only-of-type {\n",
       "        vertical-align: middle;\n",
       "    }\n",
       "\n",
       "    .dataframe tbody tr th {\n",
       "        vertical-align: top;\n",
       "    }\n",
       "\n",
       "    .dataframe thead th {\n",
       "        text-align: right;\n",
       "    }\n",
       "</style>\n",
       "<table border=\"1\" class=\"dataframe\">\n",
       "  <thead>\n",
       "    <tr style=\"text-align: right;\">\n",
       "      <th></th>\n",
       "      <th>0</th>\n",
       "      <th>1</th>\n",
       "      <th>2</th>\n",
       "    </tr>\n",
       "  </thead>\n",
       "  <tbody>\n",
       "    <tr>\n",
       "      <th>make_model</th>\n",
       "      <td>Audi A1</td>\n",
       "      <td>Audi A1</td>\n",
       "      <td>Audi A1</td>\n",
       "    </tr>\n",
       "    <tr>\n",
       "      <th>body_type</th>\n",
       "      <td>Sedans</td>\n",
       "      <td>Sedans</td>\n",
       "      <td>Sedans</td>\n",
       "    </tr>\n",
       "    <tr>\n",
       "      <th>price</th>\n",
       "      <td>15770</td>\n",
       "      <td>14500</td>\n",
       "      <td>14640</td>\n",
       "    </tr>\n",
       "    <tr>\n",
       "      <th>vat</th>\n",
       "      <td>VAT deductible</td>\n",
       "      <td>Price negotiable</td>\n",
       "      <td>VAT deductible</td>\n",
       "    </tr>\n",
       "    <tr>\n",
       "      <th>km</th>\n",
       "      <td>56013</td>\n",
       "      <td>80000</td>\n",
       "      <td>83450</td>\n",
       "    </tr>\n",
       "    <tr>\n",
       "      <th>prev_owner</th>\n",
       "      <td>2</td>\n",
       "      <td>NaN</td>\n",
       "      <td>1</td>\n",
       "    </tr>\n",
       "    <tr>\n",
       "      <th>hp</th>\n",
       "      <td>66</td>\n",
       "      <td>141</td>\n",
       "      <td>85</td>\n",
       "    </tr>\n",
       "    <tr>\n",
       "      <th>inspection_new</th>\n",
       "      <td>Yes</td>\n",
       "      <td>NaN</td>\n",
       "      <td>NaN</td>\n",
       "    </tr>\n",
       "    <tr>\n",
       "      <th>warranty</th>\n",
       "      <td>NaN</td>\n",
       "      <td>NaN</td>\n",
       "      <td>NaN</td>\n",
       "    </tr>\n",
       "    <tr>\n",
       "      <th>body_color</th>\n",
       "      <td>Black</td>\n",
       "      <td>Red</td>\n",
       "      <td>Black</td>\n",
       "    </tr>\n",
       "    <tr>\n",
       "      <th>paint_type</th>\n",
       "      <td>Metallic</td>\n",
       "      <td>NaN</td>\n",
       "      <td>Metallic</td>\n",
       "    </tr>\n",
       "    <tr>\n",
       "      <th>nr_of_doors</th>\n",
       "      <td>5</td>\n",
       "      <td>3</td>\n",
       "      <td>4</td>\n",
       "    </tr>\n",
       "    <tr>\n",
       "      <th>nr_of_seats</th>\n",
       "      <td>5</td>\n",
       "      <td>4</td>\n",
       "      <td>4</td>\n",
       "    </tr>\n",
       "    <tr>\n",
       "      <th>gearing_type</th>\n",
       "      <td>Automatic</td>\n",
       "      <td>Automatic</td>\n",
       "      <td>Automatic</td>\n",
       "    </tr>\n",
       "    <tr>\n",
       "      <th>displacement</th>\n",
       "      <td>1422</td>\n",
       "      <td>1798</td>\n",
       "      <td>1598</td>\n",
       "    </tr>\n",
       "    <tr>\n",
       "      <th>cylinders</th>\n",
       "      <td>3</td>\n",
       "      <td>4</td>\n",
       "      <td>NaN</td>\n",
       "    </tr>\n",
       "    <tr>\n",
       "      <th>weight</th>\n",
       "      <td>1220</td>\n",
       "      <td>1255</td>\n",
       "      <td>NaN</td>\n",
       "    </tr>\n",
       "    <tr>\n",
       "      <th>drive_chain</th>\n",
       "      <td>front</td>\n",
       "      <td>front</td>\n",
       "      <td>front</td>\n",
       "    </tr>\n",
       "    <tr>\n",
       "      <th>co2_emission</th>\n",
       "      <td>99</td>\n",
       "      <td>129</td>\n",
       "      <td>99</td>\n",
       "    </tr>\n",
       "    <tr>\n",
       "      <th>emission_class</th>\n",
       "      <td>Euro 6</td>\n",
       "      <td>Euro 6</td>\n",
       "      <td>Euro 6</td>\n",
       "    </tr>\n",
       "    <tr>\n",
       "      <th>comfort_convenience</th>\n",
       "      <td>'Air conditioning', 'Armrest', 'Automatic clim...</td>\n",
       "      <td>'Air conditioning', 'Automatic climate control...</td>\n",
       "      <td>'Air conditioning', 'Cruise control', 'Electri...</td>\n",
       "    </tr>\n",
       "    <tr>\n",
       "      <th>entertainment_media</th>\n",
       "      <td>'Bluetooth', 'Hands-free equipment', 'On-board...</td>\n",
       "      <td>'Bluetooth', 'Hands-free equipment', 'On-board...</td>\n",
       "      <td>'MP3', 'On-board computer'</td>\n",
       "    </tr>\n",
       "    <tr>\n",
       "      <th>extras</th>\n",
       "      <td>'Alloy wheels', 'Catalytic Converter', 'Voice ...</td>\n",
       "      <td>'Alloy wheels', 'Sport seats', 'Sport suspensi...</td>\n",
       "      <td>'Alloy wheels', 'Voice Control'</td>\n",
       "    </tr>\n",
       "    <tr>\n",
       "      <th>safety_security</th>\n",
       "      <td>'ABS', 'Central door lock', 'Daytime running l...</td>\n",
       "      <td>'ABS', 'Central door lock', 'Central door lock...</td>\n",
       "      <td>'ABS', 'Central door lock', 'Daytime running l...</td>\n",
       "    </tr>\n",
       "    <tr>\n",
       "      <th>gears</th>\n",
       "      <td>NaN</td>\n",
       "      <td>7</td>\n",
       "      <td>NaN</td>\n",
       "    </tr>\n",
       "    <tr>\n",
       "      <th>electricity_consumption</th>\n",
       "      <td>0</td>\n",
       "      <td>0</td>\n",
       "      <td>0</td>\n",
       "    </tr>\n",
       "    <tr>\n",
       "      <th>year</th>\n",
       "      <td>2016</td>\n",
       "      <td>2017</td>\n",
       "      <td>2016</td>\n",
       "    </tr>\n",
       "    <tr>\n",
       "      <th>new_used</th>\n",
       "      <td>Used</td>\n",
       "      <td>Used</td>\n",
       "      <td>Used</td>\n",
       "    </tr>\n",
       "    <tr>\n",
       "      <th>fuel_type</th>\n",
       "      <td>diesel</td>\n",
       "      <td>benzine</td>\n",
       "      <td>diesel</td>\n",
       "    </tr>\n",
       "    <tr>\n",
       "      <th>next_inspection_date</th>\n",
       "      <td>2021-06-01</td>\n",
       "      <td>NaN</td>\n",
       "      <td>NaN</td>\n",
       "    </tr>\n",
       "    <tr>\n",
       "      <th>consumption_comb</th>\n",
       "      <td>3.8</td>\n",
       "      <td>5.6</td>\n",
       "      <td>3.8</td>\n",
       "    </tr>\n",
       "    <tr>\n",
       "      <th>consumption_city</th>\n",
       "      <td>4.3</td>\n",
       "      <td>7.1</td>\n",
       "      <td>4.4</td>\n",
       "    </tr>\n",
       "    <tr>\n",
       "      <th>consumption_country</th>\n",
       "      <td>3.5</td>\n",
       "      <td>4.7</td>\n",
       "      <td>3.4</td>\n",
       "    </tr>\n",
       "    <tr>\n",
       "      <th>upholstery_material</th>\n",
       "      <td>Cloth</td>\n",
       "      <td>Cloth</td>\n",
       "      <td>Cloth</td>\n",
       "    </tr>\n",
       "    <tr>\n",
       "      <th>upholstery_color</th>\n",
       "      <td>Black</td>\n",
       "      <td>Grey</td>\n",
       "      <td>Black</td>\n",
       "    </tr>\n",
       "  </tbody>\n",
       "</table>\n",
       "</div>"
      ],
      "text/plain": [
       "                                                                         0  \\\n",
       "make_model                                                         Audi A1   \n",
       "body_type                                                           Sedans   \n",
       "price                                                                15770   \n",
       "vat                                                         VAT deductible   \n",
       "km                                                                   56013   \n",
       "prev_owner                                                               2   \n",
       "hp                                                                      66   \n",
       "inspection_new                                                         Yes   \n",
       "warranty                                                               NaN   \n",
       "body_color                                                           Black   \n",
       "paint_type                                                        Metallic   \n",
       "nr_of_doors                                                              5   \n",
       "nr_of_seats                                                              5   \n",
       "gearing_type                                                     Automatic   \n",
       "displacement                                                          1422   \n",
       "cylinders                                                                3   \n",
       "weight                                                                1220   \n",
       "drive_chain                                                          front   \n",
       "co2_emission                                                            99   \n",
       "emission_class                                                      Euro 6   \n",
       "comfort_convenience      'Air conditioning', 'Armrest', 'Automatic clim...   \n",
       "entertainment_media      'Bluetooth', 'Hands-free equipment', 'On-board...   \n",
       "extras                   'Alloy wheels', 'Catalytic Converter', 'Voice ...   \n",
       "safety_security          'ABS', 'Central door lock', 'Daytime running l...   \n",
       "gears                                                                  NaN   \n",
       "electricity_consumption                                                  0   \n",
       "year                                                                  2016   \n",
       "new_used                                                              Used   \n",
       "fuel_type                                                           diesel   \n",
       "next_inspection_date                                            2021-06-01   \n",
       "consumption_comb                                                       3.8   \n",
       "consumption_city                                                       4.3   \n",
       "consumption_country                                                    3.5   \n",
       "upholstery_material                                                  Cloth   \n",
       "upholstery_color                                                     Black   \n",
       "\n",
       "                                                                         1  \\\n",
       "make_model                                                         Audi A1   \n",
       "body_type                                                           Sedans   \n",
       "price                                                                14500   \n",
       "vat                                                       Price negotiable   \n",
       "km                                                                   80000   \n",
       "prev_owner                                                             NaN   \n",
       "hp                                                                     141   \n",
       "inspection_new                                                         NaN   \n",
       "warranty                                                               NaN   \n",
       "body_color                                                             Red   \n",
       "paint_type                                                             NaN   \n",
       "nr_of_doors                                                              3   \n",
       "nr_of_seats                                                              4   \n",
       "gearing_type                                                     Automatic   \n",
       "displacement                                                          1798   \n",
       "cylinders                                                                4   \n",
       "weight                                                                1255   \n",
       "drive_chain                                                          front   \n",
       "co2_emission                                                           129   \n",
       "emission_class                                                      Euro 6   \n",
       "comfort_convenience      'Air conditioning', 'Automatic climate control...   \n",
       "entertainment_media      'Bluetooth', 'Hands-free equipment', 'On-board...   \n",
       "extras                   'Alloy wheels', 'Sport seats', 'Sport suspensi...   \n",
       "safety_security          'ABS', 'Central door lock', 'Central door lock...   \n",
       "gears                                                                    7   \n",
       "electricity_consumption                                                  0   \n",
       "year                                                                  2017   \n",
       "new_used                                                              Used   \n",
       "fuel_type                                                          benzine   \n",
       "next_inspection_date                                                   NaN   \n",
       "consumption_comb                                                       5.6   \n",
       "consumption_city                                                       7.1   \n",
       "consumption_country                                                    4.7   \n",
       "upholstery_material                                                  Cloth   \n",
       "upholstery_color                                                      Grey   \n",
       "\n",
       "                                                                         2  \n",
       "make_model                                                         Audi A1  \n",
       "body_type                                                           Sedans  \n",
       "price                                                                14640  \n",
       "vat                                                         VAT deductible  \n",
       "km                                                                   83450  \n",
       "prev_owner                                                               1  \n",
       "hp                                                                      85  \n",
       "inspection_new                                                         NaN  \n",
       "warranty                                                               NaN  \n",
       "body_color                                                           Black  \n",
       "paint_type                                                        Metallic  \n",
       "nr_of_doors                                                              4  \n",
       "nr_of_seats                                                              4  \n",
       "gearing_type                                                     Automatic  \n",
       "displacement                                                          1598  \n",
       "cylinders                                                              NaN  \n",
       "weight                                                                 NaN  \n",
       "drive_chain                                                          front  \n",
       "co2_emission                                                            99  \n",
       "emission_class                                                      Euro 6  \n",
       "comfort_convenience      'Air conditioning', 'Cruise control', 'Electri...  \n",
       "entertainment_media                             'MP3', 'On-board computer'  \n",
       "extras                                     'Alloy wheels', 'Voice Control'  \n",
       "safety_security          'ABS', 'Central door lock', 'Daytime running l...  \n",
       "gears                                                                  NaN  \n",
       "electricity_consumption                                                  0  \n",
       "year                                                                  2016  \n",
       "new_used                                                              Used  \n",
       "fuel_type                                                           diesel  \n",
       "next_inspection_date                                                   NaN  \n",
       "consumption_comb                                                       3.8  \n",
       "consumption_city                                                       4.4  \n",
       "consumption_country                                                    3.4  \n",
       "upholstery_material                                                  Cloth  \n",
       "upholstery_color                                                     Black  "
      ]
     },
     "execution_count": 4,
     "metadata": {},
     "output_type": "execute_result"
    }
   ],
   "source": [
    "auto.head(3).T"
   ]
  },
  {
   "cell_type": "code",
   "execution_count": 5,
   "metadata": {},
   "outputs": [
    {
     "data": {
      "text/plain": [
       "make_model                     0\n",
       "body_type                     60\n",
       "price                          0\n",
       "vat                         4509\n",
       "km                          1024\n",
       "prev_owner                  6636\n",
       "hp                            88\n",
       "inspection_new             11983\n",
       "warranty                   11062\n",
       "body_color                   597\n",
       "paint_type                  5769\n",
       "nr_of_doors                  212\n",
       "nr_of_seats                  977\n",
       "gearing_type                   0\n",
       "displacement                 180\n",
       "cylinders                   5680\n",
       "weight                      6974\n",
       "drive_chain                 6854\n",
       "co2_emission                2435\n",
       "emission_class              3627\n",
       "comfort_convenience          920\n",
       "entertainment_media         1374\n",
       "extras                      2962\n",
       "safety_security              982\n",
       "gears                       4712\n",
       "electricity_consumption        0\n",
       "year                        1597\n",
       "new_used                       2\n",
       "fuel_type                      2\n",
       "next_inspection_date       12380\n",
       "consumption_comb            2032\n",
       "consumption_city            2435\n",
       "consumption_country         2375\n",
       "upholstery_material         4501\n",
       "upholstery_color            6036\n",
       "dtype: int64"
      ]
     },
     "execution_count": 5,
     "metadata": {},
     "output_type": "execute_result"
    }
   ],
   "source": [
    "auto.isnull().sum()"
   ]
  },
  {
   "cell_type": "markdown",
   "metadata": {},
   "source": [
    "## body_type column"
   ]
  },
  {
   "cell_type": "code",
   "execution_count": 6,
   "metadata": {},
   "outputs": [
    {
     "data": {
      "text/plain": [
       "Sedans           7902\n",
       "Station wagon    3552\n",
       "Compact          3152\n",
       "Van               783\n",
       "Other             289\n",
       "Transporter        88\n",
       "NaN                60\n",
       "Off-Road           56\n",
       "Coupe              25\n",
       "Convertible         8\n",
       "Name: body_type, dtype: int64"
      ]
     },
     "execution_count": 6,
     "metadata": {},
     "output_type": "execute_result"
    }
   ],
   "source": [
    "auto.body_type.value_counts(dropna=False)"
   ]
  },
  {
   "cell_type": "code",
   "execution_count": 7,
   "metadata": {},
   "outputs": [
    {
     "data": {
      "text/html": [
       "<div>\n",
       "<style scoped>\n",
       "    .dataframe tbody tr th:only-of-type {\n",
       "        vertical-align: middle;\n",
       "    }\n",
       "\n",
       "    .dataframe tbody tr th {\n",
       "        vertical-align: top;\n",
       "    }\n",
       "\n",
       "    .dataframe thead th {\n",
       "        text-align: right;\n",
       "    }\n",
       "</style>\n",
       "<table border=\"1\" class=\"dataframe\">\n",
       "  <thead>\n",
       "    <tr style=\"text-align: right;\">\n",
       "      <th></th>\n",
       "      <th>make_model</th>\n",
       "      <th>body_type</th>\n",
       "      <th>price</th>\n",
       "      <th>vat</th>\n",
       "      <th>km</th>\n",
       "      <th>prev_owner</th>\n",
       "      <th>hp</th>\n",
       "      <th>inspection_new</th>\n",
       "      <th>warranty</th>\n",
       "      <th>body_color</th>\n",
       "      <th>...</th>\n",
       "      <th>electricity_consumption</th>\n",
       "      <th>year</th>\n",
       "      <th>new_used</th>\n",
       "      <th>fuel_type</th>\n",
       "      <th>next_inspection_date</th>\n",
       "      <th>consumption_comb</th>\n",
       "      <th>consumption_city</th>\n",
       "      <th>consumption_country</th>\n",
       "      <th>upholstery_material</th>\n",
       "      <th>upholstery_color</th>\n",
       "    </tr>\n",
       "  </thead>\n",
       "  <tbody>\n",
       "    <tr>\n",
       "      <th>3175</th>\n",
       "      <td>Audi A3</td>\n",
       "      <td>NaN</td>\n",
       "      <td>14400</td>\n",
       "      <td>NaN</td>\n",
       "      <td>119000.0</td>\n",
       "      <td>1.0</td>\n",
       "      <td>81.0</td>\n",
       "      <td>NaN</td>\n",
       "      <td>NaN</td>\n",
       "      <td>Black</td>\n",
       "      <td>...</td>\n",
       "      <td>0</td>\n",
       "      <td>2016.0</td>\n",
       "      <td>Used</td>\n",
       "      <td>diesel</td>\n",
       "      <td>NaN</td>\n",
       "      <td>3.8</td>\n",
       "      <td>4.5</td>\n",
       "      <td>3.4</td>\n",
       "      <td>Cloth</td>\n",
       "      <td>NaN</td>\n",
       "    </tr>\n",
       "    <tr>\n",
       "      <th>3255</th>\n",
       "      <td>Audi A3</td>\n",
       "      <td>NaN</td>\n",
       "      <td>18500</td>\n",
       "      <td>Price negotiable</td>\n",
       "      <td>70000.0</td>\n",
       "      <td>NaN</td>\n",
       "      <td>81.0</td>\n",
       "      <td>NaN</td>\n",
       "      <td>NaN</td>\n",
       "      <td>White</td>\n",
       "      <td>...</td>\n",
       "      <td>0</td>\n",
       "      <td>2016.0</td>\n",
       "      <td>Used</td>\n",
       "      <td>diesel</td>\n",
       "      <td>2020-07-01</td>\n",
       "      <td>3.8</td>\n",
       "      <td>4.3</td>\n",
       "      <td>3.5</td>\n",
       "      <td>Cloth</td>\n",
       "      <td>Beige</td>\n",
       "    </tr>\n",
       "    <tr>\n",
       "      <th>3975</th>\n",
       "      <td>Audi A3</td>\n",
       "      <td>NaN</td>\n",
       "      <td>19950</td>\n",
       "      <td>NaN</td>\n",
       "      <td>25000.0</td>\n",
       "      <td>2.0</td>\n",
       "      <td>85.0</td>\n",
       "      <td>NaN</td>\n",
       "      <td>NaN</td>\n",
       "      <td>Blue</td>\n",
       "      <td>...</td>\n",
       "      <td>0</td>\n",
       "      <td>2017.0</td>\n",
       "      <td>Used</td>\n",
       "      <td>benzine</td>\n",
       "      <td>2020-03-01</td>\n",
       "      <td>4.7</td>\n",
       "      <td>5.6</td>\n",
       "      <td>4.2</td>\n",
       "      <td>NaN</td>\n",
       "      <td>NaN</td>\n",
       "    </tr>\n",
       "    <tr>\n",
       "      <th>3997</th>\n",
       "      <td>Audi A3</td>\n",
       "      <td>NaN</td>\n",
       "      <td>19750</td>\n",
       "      <td>VAT deductible</td>\n",
       "      <td>38800.0</td>\n",
       "      <td>1.0</td>\n",
       "      <td>82.0</td>\n",
       "      <td>NaN</td>\n",
       "      <td>6.0</td>\n",
       "      <td>Black</td>\n",
       "      <td>...</td>\n",
       "      <td>0</td>\n",
       "      <td>2017.0</td>\n",
       "      <td>Used</td>\n",
       "      <td>diesel</td>\n",
       "      <td>NaN</td>\n",
       "      <td>NaN</td>\n",
       "      <td>NaN</td>\n",
       "      <td>NaN</td>\n",
       "      <td>NaN</td>\n",
       "      <td>NaN</td>\n",
       "    </tr>\n",
       "    <tr>\n",
       "      <th>4206</th>\n",
       "      <td>Audi A3</td>\n",
       "      <td>NaN</td>\n",
       "      <td>18490</td>\n",
       "      <td>NaN</td>\n",
       "      <td>20000.0</td>\n",
       "      <td>NaN</td>\n",
       "      <td>92.0</td>\n",
       "      <td>NaN</td>\n",
       "      <td>NaN</td>\n",
       "      <td>White</td>\n",
       "      <td>...</td>\n",
       "      <td>0</td>\n",
       "      <td>2017.0</td>\n",
       "      <td>Used</td>\n",
       "      <td>benzine</td>\n",
       "      <td>NaN</td>\n",
       "      <td>5.1</td>\n",
       "      <td>6.7</td>\n",
       "      <td>4.1</td>\n",
       "      <td>NaN</td>\n",
       "      <td>NaN</td>\n",
       "    </tr>\n",
       "    <tr>\n",
       "      <th>4297</th>\n",
       "      <td>Audi A3</td>\n",
       "      <td>NaN</td>\n",
       "      <td>17990</td>\n",
       "      <td>NaN</td>\n",
       "      <td>20000.0</td>\n",
       "      <td>NaN</td>\n",
       "      <td>92.0</td>\n",
       "      <td>NaN</td>\n",
       "      <td>NaN</td>\n",
       "      <td>White</td>\n",
       "      <td>...</td>\n",
       "      <td>0</td>\n",
       "      <td>2017.0</td>\n",
       "      <td>Used</td>\n",
       "      <td>benzine</td>\n",
       "      <td>NaN</td>\n",
       "      <td>5.1</td>\n",
       "      <td>6.7</td>\n",
       "      <td>4.1</td>\n",
       "      <td>NaN</td>\n",
       "      <td>NaN</td>\n",
       "    </tr>\n",
       "    <tr>\n",
       "      <th>4298</th>\n",
       "      <td>Audi A3</td>\n",
       "      <td>NaN</td>\n",
       "      <td>17990</td>\n",
       "      <td>NaN</td>\n",
       "      <td>20000.0</td>\n",
       "      <td>NaN</td>\n",
       "      <td>92.0</td>\n",
       "      <td>NaN</td>\n",
       "      <td>NaN</td>\n",
       "      <td>White</td>\n",
       "      <td>...</td>\n",
       "      <td>0</td>\n",
       "      <td>2017.0</td>\n",
       "      <td>Used</td>\n",
       "      <td>benzine</td>\n",
       "      <td>NaN</td>\n",
       "      <td>5.1</td>\n",
       "      <td>6.7</td>\n",
       "      <td>4.1</td>\n",
       "      <td>NaN</td>\n",
       "      <td>NaN</td>\n",
       "    </tr>\n",
       "    <tr>\n",
       "      <th>5718</th>\n",
       "      <td>Opel Astra</td>\n",
       "      <td>NaN</td>\n",
       "      <td>12990</td>\n",
       "      <td>NaN</td>\n",
       "      <td>47000.0</td>\n",
       "      <td>NaN</td>\n",
       "      <td>100.0</td>\n",
       "      <td>NaN</td>\n",
       "      <td>NaN</td>\n",
       "      <td>Black</td>\n",
       "      <td>...</td>\n",
       "      <td>0</td>\n",
       "      <td>2016.0</td>\n",
       "      <td>Used</td>\n",
       "      <td>diesel</td>\n",
       "      <td>NaN</td>\n",
       "      <td>4.5</td>\n",
       "      <td>5.7</td>\n",
       "      <td>3.8</td>\n",
       "      <td>NaN</td>\n",
       "      <td>NaN</td>\n",
       "    </tr>\n",
       "    <tr>\n",
       "      <th>5938</th>\n",
       "      <td>Opel Astra</td>\n",
       "      <td>NaN</td>\n",
       "      <td>12990</td>\n",
       "      <td>NaN</td>\n",
       "      <td>47000.0</td>\n",
       "      <td>NaN</td>\n",
       "      <td>100.0</td>\n",
       "      <td>NaN</td>\n",
       "      <td>NaN</td>\n",
       "      <td>Black</td>\n",
       "      <td>...</td>\n",
       "      <td>0</td>\n",
       "      <td>2016.0</td>\n",
       "      <td>Used</td>\n",
       "      <td>diesel</td>\n",
       "      <td>NaN</td>\n",
       "      <td>4.5</td>\n",
       "      <td>5.7</td>\n",
       "      <td>3.8</td>\n",
       "      <td>NaN</td>\n",
       "      <td>NaN</td>\n",
       "    </tr>\n",
       "    <tr>\n",
       "      <th>5940</th>\n",
       "      <td>Opel Astra</td>\n",
       "      <td>NaN</td>\n",
       "      <td>12990</td>\n",
       "      <td>NaN</td>\n",
       "      <td>47000.0</td>\n",
       "      <td>NaN</td>\n",
       "      <td>100.0</td>\n",
       "      <td>NaN</td>\n",
       "      <td>NaN</td>\n",
       "      <td>Black</td>\n",
       "      <td>...</td>\n",
       "      <td>0</td>\n",
       "      <td>2016.0</td>\n",
       "      <td>Used</td>\n",
       "      <td>diesel</td>\n",
       "      <td>NaN</td>\n",
       "      <td>4.5</td>\n",
       "      <td>5.7</td>\n",
       "      <td>3.8</td>\n",
       "      <td>NaN</td>\n",
       "      <td>NaN</td>\n",
       "    </tr>\n",
       "    <tr>\n",
       "      <th>6919</th>\n",
       "      <td>Opel Astra</td>\n",
       "      <td>NaN</td>\n",
       "      <td>11990</td>\n",
       "      <td>NaN</td>\n",
       "      <td>64000.0</td>\n",
       "      <td>NaN</td>\n",
       "      <td>81.0</td>\n",
       "      <td>NaN</td>\n",
       "      <td>NaN</td>\n",
       "      <td>Black</td>\n",
       "      <td>...</td>\n",
       "      <td>0</td>\n",
       "      <td>2017.0</td>\n",
       "      <td>Used</td>\n",
       "      <td>diesel</td>\n",
       "      <td>NaN</td>\n",
       "      <td>3.7</td>\n",
       "      <td>4.2</td>\n",
       "      <td>3.3</td>\n",
       "      <td>NaN</td>\n",
       "      <td>NaN</td>\n",
       "    </tr>\n",
       "    <tr>\n",
       "      <th>6921</th>\n",
       "      <td>Opel Astra</td>\n",
       "      <td>NaN</td>\n",
       "      <td>11990</td>\n",
       "      <td>NaN</td>\n",
       "      <td>64000.0</td>\n",
       "      <td>NaN</td>\n",
       "      <td>81.0</td>\n",
       "      <td>NaN</td>\n",
       "      <td>NaN</td>\n",
       "      <td>Black</td>\n",
       "      <td>...</td>\n",
       "      <td>0</td>\n",
       "      <td>2017.0</td>\n",
       "      <td>Used</td>\n",
       "      <td>diesel</td>\n",
       "      <td>NaN</td>\n",
       "      <td>3.7</td>\n",
       "      <td>4.2</td>\n",
       "      <td>3.3</td>\n",
       "      <td>NaN</td>\n",
       "      <td>NaN</td>\n",
       "    </tr>\n",
       "    <tr>\n",
       "      <th>6926</th>\n",
       "      <td>Opel Astra</td>\n",
       "      <td>NaN</td>\n",
       "      <td>11990</td>\n",
       "      <td>NaN</td>\n",
       "      <td>64000.0</td>\n",
       "      <td>NaN</td>\n",
       "      <td>81.0</td>\n",
       "      <td>NaN</td>\n",
       "      <td>NaN</td>\n",
       "      <td>Black</td>\n",
       "      <td>...</td>\n",
       "      <td>0</td>\n",
       "      <td>2017.0</td>\n",
       "      <td>Used</td>\n",
       "      <td>diesel</td>\n",
       "      <td>NaN</td>\n",
       "      <td>3.7</td>\n",
       "      <td>4.2</td>\n",
       "      <td>3.3</td>\n",
       "      <td>NaN</td>\n",
       "      <td>NaN</td>\n",
       "    </tr>\n",
       "    <tr>\n",
       "      <th>7708</th>\n",
       "      <td>Opel Astra</td>\n",
       "      <td>NaN</td>\n",
       "      <td>26490</td>\n",
       "      <td>NaN</td>\n",
       "      <td>6000.0</td>\n",
       "      <td>NaN</td>\n",
       "      <td>112.0</td>\n",
       "      <td>NaN</td>\n",
       "      <td>NaN</td>\n",
       "      <td>Grey</td>\n",
       "      <td>...</td>\n",
       "      <td>0</td>\n",
       "      <td>2019.0</td>\n",
       "      <td>Used</td>\n",
       "      <td>benzine</td>\n",
       "      <td>NaN</td>\n",
       "      <td>NaN</td>\n",
       "      <td>NaN</td>\n",
       "      <td>NaN</td>\n",
       "      <td>NaN</td>\n",
       "      <td>NaN</td>\n",
       "    </tr>\n",
       "    <tr>\n",
       "      <th>8407</th>\n",
       "      <td>Opel Corsa</td>\n",
       "      <td>NaN</td>\n",
       "      <td>12435</td>\n",
       "      <td>VAT deductible</td>\n",
       "      <td>21050.0</td>\n",
       "      <td>1.0</td>\n",
       "      <td>44.0</td>\n",
       "      <td>Yes</td>\n",
       "      <td>NaN</td>\n",
       "      <td>White</td>\n",
       "      <td>...</td>\n",
       "      <td>0</td>\n",
       "      <td>2018.0</td>\n",
       "      <td>Used</td>\n",
       "      <td>benzine</td>\n",
       "      <td>2019-04-01</td>\n",
       "      <td>NaN</td>\n",
       "      <td>NaN</td>\n",
       "      <td>NaN</td>\n",
       "      <td>Cloth</td>\n",
       "      <td>Black</td>\n",
       "    </tr>\n",
       "    <tr>\n",
       "      <th>8583</th>\n",
       "      <td>Opel Corsa</td>\n",
       "      <td>NaN</td>\n",
       "      <td>8900</td>\n",
       "      <td>NaN</td>\n",
       "      <td>43731.0</td>\n",
       "      <td>NaN</td>\n",
       "      <td>51.0</td>\n",
       "      <td>NaN</td>\n",
       "      <td>NaN</td>\n",
       "      <td>Black</td>\n",
       "      <td>...</td>\n",
       "      <td>0</td>\n",
       "      <td>2017.0</td>\n",
       "      <td>Used</td>\n",
       "      <td>benzine</td>\n",
       "      <td>NaN</td>\n",
       "      <td>NaN</td>\n",
       "      <td>NaN</td>\n",
       "      <td>NaN</td>\n",
       "      <td>NaN</td>\n",
       "      <td>NaN</td>\n",
       "    </tr>\n",
       "    <tr>\n",
       "      <th>10833</th>\n",
       "      <td>Opel Insignia</td>\n",
       "      <td>NaN</td>\n",
       "      <td>11490</td>\n",
       "      <td>NaN</td>\n",
       "      <td>99000.0</td>\n",
       "      <td>NaN</td>\n",
       "      <td>125.0</td>\n",
       "      <td>NaN</td>\n",
       "      <td>NaN</td>\n",
       "      <td>Black</td>\n",
       "      <td>...</td>\n",
       "      <td>0</td>\n",
       "      <td>2017.0</td>\n",
       "      <td>Used</td>\n",
       "      <td>diesel</td>\n",
       "      <td>NaN</td>\n",
       "      <td>5.6</td>\n",
       "      <td>7.8</td>\n",
       "      <td>4.2</td>\n",
       "      <td>NaN</td>\n",
       "      <td>NaN</td>\n",
       "    </tr>\n",
       "    <tr>\n",
       "      <th>10834</th>\n",
       "      <td>Opel Insignia</td>\n",
       "      <td>NaN</td>\n",
       "      <td>11490</td>\n",
       "      <td>NaN</td>\n",
       "      <td>99000.0</td>\n",
       "      <td>NaN</td>\n",
       "      <td>125.0</td>\n",
       "      <td>NaN</td>\n",
       "      <td>NaN</td>\n",
       "      <td>Black</td>\n",
       "      <td>...</td>\n",
       "      <td>0</td>\n",
       "      <td>2017.0</td>\n",
       "      <td>Used</td>\n",
       "      <td>diesel</td>\n",
       "      <td>NaN</td>\n",
       "      <td>5.6</td>\n",
       "      <td>7.8</td>\n",
       "      <td>4.2</td>\n",
       "      <td>NaN</td>\n",
       "      <td>NaN</td>\n",
       "    </tr>\n",
       "    <tr>\n",
       "      <th>10853</th>\n",
       "      <td>Opel Insignia</td>\n",
       "      <td>NaN</td>\n",
       "      <td>11490</td>\n",
       "      <td>NaN</td>\n",
       "      <td>99000.0</td>\n",
       "      <td>NaN</td>\n",
       "      <td>125.0</td>\n",
       "      <td>NaN</td>\n",
       "      <td>NaN</td>\n",
       "      <td>Black</td>\n",
       "      <td>...</td>\n",
       "      <td>0</td>\n",
       "      <td>2017.0</td>\n",
       "      <td>Used</td>\n",
       "      <td>diesel</td>\n",
       "      <td>NaN</td>\n",
       "      <td>5.6</td>\n",
       "      <td>7.8</td>\n",
       "      <td>4.2</td>\n",
       "      <td>NaN</td>\n",
       "      <td>NaN</td>\n",
       "    </tr>\n",
       "    <tr>\n",
       "      <th>13426</th>\n",
       "      <td>Renault Clio</td>\n",
       "      <td>NaN</td>\n",
       "      <td>7990</td>\n",
       "      <td>VAT deductible</td>\n",
       "      <td>76021.0</td>\n",
       "      <td>NaN</td>\n",
       "      <td>67.0</td>\n",
       "      <td>NaN</td>\n",
       "      <td>NaN</td>\n",
       "      <td>White</td>\n",
       "      <td>...</td>\n",
       "      <td>0</td>\n",
       "      <td>2016.0</td>\n",
       "      <td>Used</td>\n",
       "      <td>diesel</td>\n",
       "      <td>NaN</td>\n",
       "      <td>NaN</td>\n",
       "      <td>NaN</td>\n",
       "      <td>NaN</td>\n",
       "      <td>NaN</td>\n",
       "      <td>NaN</td>\n",
       "    </tr>\n",
       "    <tr>\n",
       "      <th>13466</th>\n",
       "      <td>Renault Clio</td>\n",
       "      <td>NaN</td>\n",
       "      <td>8490</td>\n",
       "      <td>NaN</td>\n",
       "      <td>39990.0</td>\n",
       "      <td>NaN</td>\n",
       "      <td>55.0</td>\n",
       "      <td>NaN</td>\n",
       "      <td>NaN</td>\n",
       "      <td>White</td>\n",
       "      <td>...</td>\n",
       "      <td>0</td>\n",
       "      <td>2018.0</td>\n",
       "      <td>Used</td>\n",
       "      <td>benzine</td>\n",
       "      <td>NaN</td>\n",
       "      <td>NaN</td>\n",
       "      <td>NaN</td>\n",
       "      <td>NaN</td>\n",
       "      <td>NaN</td>\n",
       "      <td>NaN</td>\n",
       "    </tr>\n",
       "    <tr>\n",
       "      <th>13572</th>\n",
       "      <td>Renault Clio</td>\n",
       "      <td>NaN</td>\n",
       "      <td>7980</td>\n",
       "      <td>VAT deductible</td>\n",
       "      <td>79980.0</td>\n",
       "      <td>1.0</td>\n",
       "      <td>56.0</td>\n",
       "      <td>NaN</td>\n",
       "      <td>3.0</td>\n",
       "      <td>White</td>\n",
       "      <td>...</td>\n",
       "      <td>0</td>\n",
       "      <td>2016.0</td>\n",
       "      <td>Used</td>\n",
       "      <td>diesel</td>\n",
       "      <td>NaN</td>\n",
       "      <td>NaN</td>\n",
       "      <td>NaN</td>\n",
       "      <td>NaN</td>\n",
       "      <td>NaN</td>\n",
       "      <td>NaN</td>\n",
       "    </tr>\n",
       "    <tr>\n",
       "      <th>13699</th>\n",
       "      <td>Renault Clio</td>\n",
       "      <td>NaN</td>\n",
       "      <td>7690</td>\n",
       "      <td>VAT deductible</td>\n",
       "      <td>63372.0</td>\n",
       "      <td>NaN</td>\n",
       "      <td>56.0</td>\n",
       "      <td>NaN</td>\n",
       "      <td>6.0</td>\n",
       "      <td>White</td>\n",
       "      <td>...</td>\n",
       "      <td>0</td>\n",
       "      <td>2017.0</td>\n",
       "      <td>Used</td>\n",
       "      <td>diesel</td>\n",
       "      <td>NaN</td>\n",
       "      <td>NaN</td>\n",
       "      <td>NaN</td>\n",
       "      <td>NaN</td>\n",
       "      <td>NaN</td>\n",
       "      <td>NaN</td>\n",
       "    </tr>\n",
       "    <tr>\n",
       "      <th>13721</th>\n",
       "      <td>Renault Clio</td>\n",
       "      <td>NaN</td>\n",
       "      <td>7490</td>\n",
       "      <td>VAT deductible</td>\n",
       "      <td>69031.0</td>\n",
       "      <td>NaN</td>\n",
       "      <td>56.0</td>\n",
       "      <td>NaN</td>\n",
       "      <td>6.0</td>\n",
       "      <td>White</td>\n",
       "      <td>...</td>\n",
       "      <td>0</td>\n",
       "      <td>2017.0</td>\n",
       "      <td>Used</td>\n",
       "      <td>diesel</td>\n",
       "      <td>NaN</td>\n",
       "      <td>NaN</td>\n",
       "      <td>NaN</td>\n",
       "      <td>NaN</td>\n",
       "      <td>NaN</td>\n",
       "      <td>NaN</td>\n",
       "    </tr>\n",
       "    <tr>\n",
       "      <th>13848</th>\n",
       "      <td>Renault Clio</td>\n",
       "      <td>NaN</td>\n",
       "      <td>8500</td>\n",
       "      <td>NaN</td>\n",
       "      <td>34564.0</td>\n",
       "      <td>NaN</td>\n",
       "      <td>55.0</td>\n",
       "      <td>NaN</td>\n",
       "      <td>NaN</td>\n",
       "      <td>White</td>\n",
       "      <td>...</td>\n",
       "      <td>0</td>\n",
       "      <td>2017.0</td>\n",
       "      <td>Used</td>\n",
       "      <td>diesel</td>\n",
       "      <td>NaN</td>\n",
       "      <td>NaN</td>\n",
       "      <td>NaN</td>\n",
       "      <td>NaN</td>\n",
       "      <td>NaN</td>\n",
       "      <td>NaN</td>\n",
       "    </tr>\n",
       "    <tr>\n",
       "      <th>13896</th>\n",
       "      <td>Renault Clio</td>\n",
       "      <td>NaN</td>\n",
       "      <td>9490</td>\n",
       "      <td>VAT deductible</td>\n",
       "      <td>84496.0</td>\n",
       "      <td>NaN</td>\n",
       "      <td>56.0</td>\n",
       "      <td>NaN</td>\n",
       "      <td>NaN</td>\n",
       "      <td>White</td>\n",
       "      <td>...</td>\n",
       "      <td>0</td>\n",
       "      <td>2017.0</td>\n",
       "      <td>Used</td>\n",
       "      <td>diesel</td>\n",
       "      <td>NaN</td>\n",
       "      <td>NaN</td>\n",
       "      <td>NaN</td>\n",
       "      <td>NaN</td>\n",
       "      <td>NaN</td>\n",
       "      <td>NaN</td>\n",
       "    </tr>\n",
       "    <tr>\n",
       "      <th>14103</th>\n",
       "      <td>Renault Clio</td>\n",
       "      <td>NaN</td>\n",
       "      <td>9990</td>\n",
       "      <td>NaN</td>\n",
       "      <td>39000.0</td>\n",
       "      <td>NaN</td>\n",
       "      <td>55.0</td>\n",
       "      <td>NaN</td>\n",
       "      <td>NaN</td>\n",
       "      <td>White</td>\n",
       "      <td>...</td>\n",
       "      <td>0</td>\n",
       "      <td>2017.0</td>\n",
       "      <td>Used</td>\n",
       "      <td>diesel</td>\n",
       "      <td>NaN</td>\n",
       "      <td>3.3</td>\n",
       "      <td>3.5</td>\n",
       "      <td>3.1</td>\n",
       "      <td>NaN</td>\n",
       "      <td>NaN</td>\n",
       "    </tr>\n",
       "    <tr>\n",
       "      <th>14120</th>\n",
       "      <td>Renault Clio</td>\n",
       "      <td>NaN</td>\n",
       "      <td>9990</td>\n",
       "      <td>VAT deductible</td>\n",
       "      <td>15.0</td>\n",
       "      <td>1.0</td>\n",
       "      <td>56.0</td>\n",
       "      <td>NaN</td>\n",
       "      <td>NaN</td>\n",
       "      <td>White</td>\n",
       "      <td>...</td>\n",
       "      <td>0</td>\n",
       "      <td>2018.0</td>\n",
       "      <td>Used</td>\n",
       "      <td>diesel</td>\n",
       "      <td>NaN</td>\n",
       "      <td>NaN</td>\n",
       "      <td>NaN</td>\n",
       "      <td>NaN</td>\n",
       "      <td>NaN</td>\n",
       "      <td>NaN</td>\n",
       "    </tr>\n",
       "    <tr>\n",
       "      <th>14123</th>\n",
       "      <td>Renault Clio</td>\n",
       "      <td>NaN</td>\n",
       "      <td>9990</td>\n",
       "      <td>VAT deductible</td>\n",
       "      <td>15.0</td>\n",
       "      <td>1.0</td>\n",
       "      <td>56.0</td>\n",
       "      <td>NaN</td>\n",
       "      <td>NaN</td>\n",
       "      <td>White</td>\n",
       "      <td>...</td>\n",
       "      <td>0</td>\n",
       "      <td>2018.0</td>\n",
       "      <td>Used</td>\n",
       "      <td>diesel</td>\n",
       "      <td>NaN</td>\n",
       "      <td>NaN</td>\n",
       "      <td>NaN</td>\n",
       "      <td>NaN</td>\n",
       "      <td>NaN</td>\n",
       "      <td>NaN</td>\n",
       "    </tr>\n",
       "    <tr>\n",
       "      <th>14130</th>\n",
       "      <td>Renault Clio</td>\n",
       "      <td>NaN</td>\n",
       "      <td>9980</td>\n",
       "      <td>VAT deductible</td>\n",
       "      <td>10.0</td>\n",
       "      <td>NaN</td>\n",
       "      <td>56.0</td>\n",
       "      <td>NaN</td>\n",
       "      <td>NaN</td>\n",
       "      <td>White</td>\n",
       "      <td>...</td>\n",
       "      <td>0</td>\n",
       "      <td>2018.0</td>\n",
       "      <td>Used</td>\n",
       "      <td>diesel</td>\n",
       "      <td>NaN</td>\n",
       "      <td>NaN</td>\n",
       "      <td>NaN</td>\n",
       "      <td>NaN</td>\n",
       "      <td>NaN</td>\n",
       "      <td>NaN</td>\n",
       "    </tr>\n",
       "    <tr>\n",
       "      <th>14131</th>\n",
       "      <td>Renault Clio</td>\n",
       "      <td>NaN</td>\n",
       "      <td>9980</td>\n",
       "      <td>VAT deductible</td>\n",
       "      <td>10.0</td>\n",
       "      <td>NaN</td>\n",
       "      <td>56.0</td>\n",
       "      <td>NaN</td>\n",
       "      <td>NaN</td>\n",
       "      <td>White</td>\n",
       "      <td>...</td>\n",
       "      <td>0</td>\n",
       "      <td>2018.0</td>\n",
       "      <td>Used</td>\n",
       "      <td>diesel</td>\n",
       "      <td>NaN</td>\n",
       "      <td>NaN</td>\n",
       "      <td>NaN</td>\n",
       "      <td>NaN</td>\n",
       "      <td>NaN</td>\n",
       "      <td>NaN</td>\n",
       "    </tr>\n",
       "    <tr>\n",
       "      <th>14476</th>\n",
       "      <td>Renault Clio</td>\n",
       "      <td>NaN</td>\n",
       "      <td>10000</td>\n",
       "      <td>NaN</td>\n",
       "      <td>8000.0</td>\n",
       "      <td>NaN</td>\n",
       "      <td>54.0</td>\n",
       "      <td>NaN</td>\n",
       "      <td>NaN</td>\n",
       "      <td>Red</td>\n",
       "      <td>...</td>\n",
       "      <td>0</td>\n",
       "      <td>2018.0</td>\n",
       "      <td>Used</td>\n",
       "      <td>benzine</td>\n",
       "      <td>NaN</td>\n",
       "      <td>5.6</td>\n",
       "      <td>7.2</td>\n",
       "      <td>4.7</td>\n",
       "      <td>Cloth</td>\n",
       "      <td>Black</td>\n",
       "    </tr>\n",
       "    <tr>\n",
       "      <th>14865</th>\n",
       "      <td>Renault Clio</td>\n",
       "      <td>NaN</td>\n",
       "      <td>10850</td>\n",
       "      <td>VAT deductible</td>\n",
       "      <td>10.0</td>\n",
       "      <td>NaN</td>\n",
       "      <td>56.0</td>\n",
       "      <td>NaN</td>\n",
       "      <td>NaN</td>\n",
       "      <td>Grey</td>\n",
       "      <td>...</td>\n",
       "      <td>0</td>\n",
       "      <td>NaN</td>\n",
       "      <td>New</td>\n",
       "      <td>benzine</td>\n",
       "      <td>NaN</td>\n",
       "      <td>5.0</td>\n",
       "      <td>6.4</td>\n",
       "      <td>4.2</td>\n",
       "      <td>Cloth</td>\n",
       "      <td>Black</td>\n",
       "    </tr>\n",
       "    <tr>\n",
       "      <th>14866</th>\n",
       "      <td>Renault Clio</td>\n",
       "      <td>NaN</td>\n",
       "      <td>10850</td>\n",
       "      <td>VAT deductible</td>\n",
       "      <td>10.0</td>\n",
       "      <td>NaN</td>\n",
       "      <td>56.0</td>\n",
       "      <td>NaN</td>\n",
       "      <td>NaN</td>\n",
       "      <td>Black</td>\n",
       "      <td>...</td>\n",
       "      <td>0</td>\n",
       "      <td>NaN</td>\n",
       "      <td>New</td>\n",
       "      <td>benzine</td>\n",
       "      <td>NaN</td>\n",
       "      <td>5.0</td>\n",
       "      <td>6.4</td>\n",
       "      <td>4.2</td>\n",
       "      <td>Cloth</td>\n",
       "      <td>Black</td>\n",
       "    </tr>\n",
       "    <tr>\n",
       "      <th>14924</th>\n",
       "      <td>Renault Espace</td>\n",
       "      <td>NaN</td>\n",
       "      <td>17500</td>\n",
       "      <td>NaN</td>\n",
       "      <td>141000.0</td>\n",
       "      <td>NaN</td>\n",
       "      <td>118.0</td>\n",
       "      <td>NaN</td>\n",
       "      <td>NaN</td>\n",
       "      <td>White</td>\n",
       "      <td>...</td>\n",
       "      <td>0</td>\n",
       "      <td>2016.0</td>\n",
       "      <td>Used</td>\n",
       "      <td>diesel</td>\n",
       "      <td>NaN</td>\n",
       "      <td>4.6</td>\n",
       "      <td>5.0</td>\n",
       "      <td>4.4</td>\n",
       "      <td>NaN</td>\n",
       "      <td>NaN</td>\n",
       "    </tr>\n",
       "    <tr>\n",
       "      <th>14986</th>\n",
       "      <td>Renault Espace</td>\n",
       "      <td>NaN</td>\n",
       "      <td>26800</td>\n",
       "      <td>NaN</td>\n",
       "      <td>332.0</td>\n",
       "      <td>NaN</td>\n",
       "      <td>165.0</td>\n",
       "      <td>NaN</td>\n",
       "      <td>NaN</td>\n",
       "      <td>Grey</td>\n",
       "      <td>...</td>\n",
       "      <td>0</td>\n",
       "      <td>2018.0</td>\n",
       "      <td>Used</td>\n",
       "      <td>benzine</td>\n",
       "      <td>NaN</td>\n",
       "      <td>6.8</td>\n",
       "      <td>8.7</td>\n",
       "      <td>5.6</td>\n",
       "      <td>NaN</td>\n",
       "      <td>NaN</td>\n",
       "    </tr>\n",
       "    <tr>\n",
       "      <th>15054</th>\n",
       "      <td>Renault Espace</td>\n",
       "      <td>NaN</td>\n",
       "      <td>24990</td>\n",
       "      <td>NaN</td>\n",
       "      <td>45000.0</td>\n",
       "      <td>NaN</td>\n",
       "      <td>118.0</td>\n",
       "      <td>NaN</td>\n",
       "      <td>NaN</td>\n",
       "      <td>White</td>\n",
       "      <td>...</td>\n",
       "      <td>0</td>\n",
       "      <td>2017.0</td>\n",
       "      <td>Used</td>\n",
       "      <td>diesel</td>\n",
       "      <td>NaN</td>\n",
       "      <td>4.6</td>\n",
       "      <td>5.0</td>\n",
       "      <td>4.4</td>\n",
       "      <td>NaN</td>\n",
       "      <td>NaN</td>\n",
       "    </tr>\n",
       "    <tr>\n",
       "      <th>15055</th>\n",
       "      <td>Renault Espace</td>\n",
       "      <td>NaN</td>\n",
       "      <td>24990</td>\n",
       "      <td>NaN</td>\n",
       "      <td>45000.0</td>\n",
       "      <td>NaN</td>\n",
       "      <td>118.0</td>\n",
       "      <td>NaN</td>\n",
       "      <td>NaN</td>\n",
       "      <td>White</td>\n",
       "      <td>...</td>\n",
       "      <td>0</td>\n",
       "      <td>2017.0</td>\n",
       "      <td>Used</td>\n",
       "      <td>diesel</td>\n",
       "      <td>NaN</td>\n",
       "      <td>4.6</td>\n",
       "      <td>5.0</td>\n",
       "      <td>4.4</td>\n",
       "      <td>NaN</td>\n",
       "      <td>NaN</td>\n",
       "    </tr>\n",
       "    <tr>\n",
       "      <th>15056</th>\n",
       "      <td>Renault Espace</td>\n",
       "      <td>NaN</td>\n",
       "      <td>24990</td>\n",
       "      <td>NaN</td>\n",
       "      <td>45000.0</td>\n",
       "      <td>NaN</td>\n",
       "      <td>118.0</td>\n",
       "      <td>NaN</td>\n",
       "      <td>NaN</td>\n",
       "      <td>White</td>\n",
       "      <td>...</td>\n",
       "      <td>0</td>\n",
       "      <td>2017.0</td>\n",
       "      <td>Used</td>\n",
       "      <td>diesel</td>\n",
       "      <td>NaN</td>\n",
       "      <td>4.6</td>\n",
       "      <td>5.0</td>\n",
       "      <td>4.4</td>\n",
       "      <td>NaN</td>\n",
       "      <td>NaN</td>\n",
       "    </tr>\n",
       "    <tr>\n",
       "      <th>15120</th>\n",
       "      <td>Renault Espace</td>\n",
       "      <td>NaN</td>\n",
       "      <td>24500</td>\n",
       "      <td>NaN</td>\n",
       "      <td>58078.0</td>\n",
       "      <td>NaN</td>\n",
       "      <td>118.0</td>\n",
       "      <td>NaN</td>\n",
       "      <td>NaN</td>\n",
       "      <td>Grey</td>\n",
       "      <td>...</td>\n",
       "      <td>0</td>\n",
       "      <td>2016.0</td>\n",
       "      <td>Used</td>\n",
       "      <td>diesel</td>\n",
       "      <td>NaN</td>\n",
       "      <td>4.6</td>\n",
       "      <td>5.0</td>\n",
       "      <td>4.4</td>\n",
       "      <td>NaN</td>\n",
       "      <td>NaN</td>\n",
       "    </tr>\n",
       "    <tr>\n",
       "      <th>15265</th>\n",
       "      <td>Renault Espace</td>\n",
       "      <td>NaN</td>\n",
       "      <td>17500</td>\n",
       "      <td>NaN</td>\n",
       "      <td>141000.0</td>\n",
       "      <td>NaN</td>\n",
       "      <td>118.0</td>\n",
       "      <td>NaN</td>\n",
       "      <td>NaN</td>\n",
       "      <td>White</td>\n",
       "      <td>...</td>\n",
       "      <td>0</td>\n",
       "      <td>2016.0</td>\n",
       "      <td>Used</td>\n",
       "      <td>diesel</td>\n",
       "      <td>NaN</td>\n",
       "      <td>4.6</td>\n",
       "      <td>5.0</td>\n",
       "      <td>4.4</td>\n",
       "      <td>NaN</td>\n",
       "      <td>NaN</td>\n",
       "    </tr>\n",
       "    <tr>\n",
       "      <th>15271</th>\n",
       "      <td>Renault Espace</td>\n",
       "      <td>NaN</td>\n",
       "      <td>17500</td>\n",
       "      <td>NaN</td>\n",
       "      <td>141000.0</td>\n",
       "      <td>NaN</td>\n",
       "      <td>118.0</td>\n",
       "      <td>NaN</td>\n",
       "      <td>NaN</td>\n",
       "      <td>White</td>\n",
       "      <td>...</td>\n",
       "      <td>0</td>\n",
       "      <td>2016.0</td>\n",
       "      <td>Used</td>\n",
       "      <td>diesel</td>\n",
       "      <td>NaN</td>\n",
       "      <td>4.6</td>\n",
       "      <td>5.0</td>\n",
       "      <td>4.4</td>\n",
       "      <td>NaN</td>\n",
       "      <td>NaN</td>\n",
       "    </tr>\n",
       "    <tr>\n",
       "      <th>15285</th>\n",
       "      <td>Renault Espace</td>\n",
       "      <td>NaN</td>\n",
       "      <td>28140</td>\n",
       "      <td>NaN</td>\n",
       "      <td>10.0</td>\n",
       "      <td>NaN</td>\n",
       "      <td>96.0</td>\n",
       "      <td>NaN</td>\n",
       "      <td>NaN</td>\n",
       "      <td>Grey</td>\n",
       "      <td>...</td>\n",
       "      <td>0</td>\n",
       "      <td>NaN</td>\n",
       "      <td>Used</td>\n",
       "      <td>diesel</td>\n",
       "      <td>NaN</td>\n",
       "      <td>4.4</td>\n",
       "      <td>5.1</td>\n",
       "      <td>4.0</td>\n",
       "      <td>NaN</td>\n",
       "      <td>NaN</td>\n",
       "    </tr>\n",
       "    <tr>\n",
       "      <th>15303</th>\n",
       "      <td>Renault Espace</td>\n",
       "      <td>NaN</td>\n",
       "      <td>31000</td>\n",
       "      <td>NaN</td>\n",
       "      <td>10.0</td>\n",
       "      <td>NaN</td>\n",
       "      <td>96.0</td>\n",
       "      <td>NaN</td>\n",
       "      <td>NaN</td>\n",
       "      <td>Grey</td>\n",
       "      <td>...</td>\n",
       "      <td>0</td>\n",
       "      <td>NaN</td>\n",
       "      <td>Used</td>\n",
       "      <td>diesel</td>\n",
       "      <td>NaN</td>\n",
       "      <td>4.4</td>\n",
       "      <td>5.1</td>\n",
       "      <td>4.0</td>\n",
       "      <td>NaN</td>\n",
       "      <td>NaN</td>\n",
       "    </tr>\n",
       "    <tr>\n",
       "      <th>15374</th>\n",
       "      <td>Renault Espace</td>\n",
       "      <td>NaN</td>\n",
       "      <td>26450</td>\n",
       "      <td>NaN</td>\n",
       "      <td>10.0</td>\n",
       "      <td>NaN</td>\n",
       "      <td>96.0</td>\n",
       "      <td>NaN</td>\n",
       "      <td>NaN</td>\n",
       "      <td>Grey</td>\n",
       "      <td>...</td>\n",
       "      <td>0</td>\n",
       "      <td>NaN</td>\n",
       "      <td>Used</td>\n",
       "      <td>diesel</td>\n",
       "      <td>NaN</td>\n",
       "      <td>4.4</td>\n",
       "      <td>5.1</td>\n",
       "      <td>4.0</td>\n",
       "      <td>NaN</td>\n",
       "      <td>NaN</td>\n",
       "    </tr>\n",
       "    <tr>\n",
       "      <th>15433</th>\n",
       "      <td>Renault Espace</td>\n",
       "      <td>NaN</td>\n",
       "      <td>33000</td>\n",
       "      <td>VAT deductible</td>\n",
       "      <td>NaN</td>\n",
       "      <td>NaN</td>\n",
       "      <td>118.0</td>\n",
       "      <td>NaN</td>\n",
       "      <td>NaN</td>\n",
       "      <td>Black</td>\n",
       "      <td>...</td>\n",
       "      <td>0</td>\n",
       "      <td>2018.0</td>\n",
       "      <td>Pre-registered</td>\n",
       "      <td>diesel</td>\n",
       "      <td>NaN</td>\n",
       "      <td>4.7</td>\n",
       "      <td>5.1</td>\n",
       "      <td>4.4</td>\n",
       "      <td>NaN</td>\n",
       "      <td>NaN</td>\n",
       "    </tr>\n",
       "    <tr>\n",
       "      <th>15448</th>\n",
       "      <td>Renault Espace</td>\n",
       "      <td>NaN</td>\n",
       "      <td>33300</td>\n",
       "      <td>NaN</td>\n",
       "      <td>10.0</td>\n",
       "      <td>NaN</td>\n",
       "      <td>118.0</td>\n",
       "      <td>NaN</td>\n",
       "      <td>NaN</td>\n",
       "      <td>Grey</td>\n",
       "      <td>...</td>\n",
       "      <td>0</td>\n",
       "      <td>NaN</td>\n",
       "      <td>Used</td>\n",
       "      <td>diesel</td>\n",
       "      <td>NaN</td>\n",
       "      <td>4.6</td>\n",
       "      <td>5.0</td>\n",
       "      <td>4.4</td>\n",
       "      <td>NaN</td>\n",
       "      <td>NaN</td>\n",
       "    </tr>\n",
       "    <tr>\n",
       "      <th>15452</th>\n",
       "      <td>Renault Espace</td>\n",
       "      <td>NaN</td>\n",
       "      <td>33400</td>\n",
       "      <td>NaN</td>\n",
       "      <td>886.0</td>\n",
       "      <td>NaN</td>\n",
       "      <td>118.0</td>\n",
       "      <td>NaN</td>\n",
       "      <td>NaN</td>\n",
       "      <td>Black</td>\n",
       "      <td>...</td>\n",
       "      <td>0</td>\n",
       "      <td>2018.0</td>\n",
       "      <td>Used</td>\n",
       "      <td>diesel</td>\n",
       "      <td>NaN</td>\n",
       "      <td>4.6</td>\n",
       "      <td>5.0</td>\n",
       "      <td>4.4</td>\n",
       "      <td>NaN</td>\n",
       "      <td>NaN</td>\n",
       "    </tr>\n",
       "    <tr>\n",
       "      <th>15453</th>\n",
       "      <td>Renault Espace</td>\n",
       "      <td>NaN</td>\n",
       "      <td>33400</td>\n",
       "      <td>NaN</td>\n",
       "      <td>454.0</td>\n",
       "      <td>NaN</td>\n",
       "      <td>118.0</td>\n",
       "      <td>NaN</td>\n",
       "      <td>NaN</td>\n",
       "      <td>White</td>\n",
       "      <td>...</td>\n",
       "      <td>0</td>\n",
       "      <td>2018.0</td>\n",
       "      <td>Used</td>\n",
       "      <td>diesel</td>\n",
       "      <td>NaN</td>\n",
       "      <td>4.6</td>\n",
       "      <td>5.0</td>\n",
       "      <td>4.4</td>\n",
       "      <td>NaN</td>\n",
       "      <td>NaN</td>\n",
       "    </tr>\n",
       "    <tr>\n",
       "      <th>15484</th>\n",
       "      <td>Renault Espace</td>\n",
       "      <td>NaN</td>\n",
       "      <td>32600</td>\n",
       "      <td>NaN</td>\n",
       "      <td>10.0</td>\n",
       "      <td>NaN</td>\n",
       "      <td>165.0</td>\n",
       "      <td>NaN</td>\n",
       "      <td>NaN</td>\n",
       "      <td>Grey</td>\n",
       "      <td>...</td>\n",
       "      <td>0</td>\n",
       "      <td>NaN</td>\n",
       "      <td>Used</td>\n",
       "      <td>benzine</td>\n",
       "      <td>NaN</td>\n",
       "      <td>NaN</td>\n",
       "      <td>NaN</td>\n",
       "      <td>NaN</td>\n",
       "      <td>NaN</td>\n",
       "      <td>NaN</td>\n",
       "    </tr>\n",
       "    <tr>\n",
       "      <th>15485</th>\n",
       "      <td>Renault Espace</td>\n",
       "      <td>NaN</td>\n",
       "      <td>32576</td>\n",
       "      <td>VAT deductible</td>\n",
       "      <td>10100.0</td>\n",
       "      <td>1.0</td>\n",
       "      <td>118.0</td>\n",
       "      <td>NaN</td>\n",
       "      <td>NaN</td>\n",
       "      <td>Black</td>\n",
       "      <td>...</td>\n",
       "      <td>0</td>\n",
       "      <td>2018.0</td>\n",
       "      <td>Used</td>\n",
       "      <td>diesel</td>\n",
       "      <td>NaN</td>\n",
       "      <td>4.6</td>\n",
       "      <td>5.0</td>\n",
       "      <td>4.4</td>\n",
       "      <td>Full leather</td>\n",
       "      <td>Brown</td>\n",
       "    </tr>\n",
       "    <tr>\n",
       "      <th>15487</th>\n",
       "      <td>Renault Espace</td>\n",
       "      <td>NaN</td>\n",
       "      <td>32576</td>\n",
       "      <td>VAT deductible</td>\n",
       "      <td>10100.0</td>\n",
       "      <td>1.0</td>\n",
       "      <td>118.0</td>\n",
       "      <td>NaN</td>\n",
       "      <td>NaN</td>\n",
       "      <td>Black</td>\n",
       "      <td>...</td>\n",
       "      <td>0</td>\n",
       "      <td>2018.0</td>\n",
       "      <td>Used</td>\n",
       "      <td>diesel</td>\n",
       "      <td>NaN</td>\n",
       "      <td>4.6</td>\n",
       "      <td>5.0</td>\n",
       "      <td>4.4</td>\n",
       "      <td>Full leather</td>\n",
       "      <td>Brown</td>\n",
       "    </tr>\n",
       "    <tr>\n",
       "      <th>15495</th>\n",
       "      <td>Renault Espace</td>\n",
       "      <td>NaN</td>\n",
       "      <td>32200</td>\n",
       "      <td>NaN</td>\n",
       "      <td>10.0</td>\n",
       "      <td>NaN</td>\n",
       "      <td>165.0</td>\n",
       "      <td>NaN</td>\n",
       "      <td>NaN</td>\n",
       "      <td>Grey</td>\n",
       "      <td>...</td>\n",
       "      <td>0</td>\n",
       "      <td>NaN</td>\n",
       "      <td>Used</td>\n",
       "      <td>benzine</td>\n",
       "      <td>NaN</td>\n",
       "      <td>NaN</td>\n",
       "      <td>NaN</td>\n",
       "      <td>NaN</td>\n",
       "      <td>NaN</td>\n",
       "      <td>NaN</td>\n",
       "    </tr>\n",
       "    <tr>\n",
       "      <th>15540</th>\n",
       "      <td>Renault Espace</td>\n",
       "      <td>NaN</td>\n",
       "      <td>29750</td>\n",
       "      <td>NaN</td>\n",
       "      <td>10.0</td>\n",
       "      <td>NaN</td>\n",
       "      <td>165.0</td>\n",
       "      <td>NaN</td>\n",
       "      <td>NaN</td>\n",
       "      <td>Grey</td>\n",
       "      <td>...</td>\n",
       "      <td>0</td>\n",
       "      <td>NaN</td>\n",
       "      <td>Used</td>\n",
       "      <td>benzine</td>\n",
       "      <td>NaN</td>\n",
       "      <td>NaN</td>\n",
       "      <td>NaN</td>\n",
       "      <td>NaN</td>\n",
       "      <td>NaN</td>\n",
       "      <td>NaN</td>\n",
       "    </tr>\n",
       "    <tr>\n",
       "      <th>15552</th>\n",
       "      <td>Renault Espace</td>\n",
       "      <td>NaN</td>\n",
       "      <td>30160</td>\n",
       "      <td>NaN</td>\n",
       "      <td>10.0</td>\n",
       "      <td>NaN</td>\n",
       "      <td>118.0</td>\n",
       "      <td>NaN</td>\n",
       "      <td>NaN</td>\n",
       "      <td>Grey</td>\n",
       "      <td>...</td>\n",
       "      <td>0</td>\n",
       "      <td>NaN</td>\n",
       "      <td>Used</td>\n",
       "      <td>diesel</td>\n",
       "      <td>NaN</td>\n",
       "      <td>4.6</td>\n",
       "      <td>5.0</td>\n",
       "      <td>4.4</td>\n",
       "      <td>NaN</td>\n",
       "      <td>NaN</td>\n",
       "    </tr>\n",
       "    <tr>\n",
       "      <th>15585</th>\n",
       "      <td>Renault Espace</td>\n",
       "      <td>NaN</td>\n",
       "      <td>31000</td>\n",
       "      <td>VAT deductible</td>\n",
       "      <td>NaN</td>\n",
       "      <td>NaN</td>\n",
       "      <td>118.0</td>\n",
       "      <td>NaN</td>\n",
       "      <td>NaN</td>\n",
       "      <td>White</td>\n",
       "      <td>...</td>\n",
       "      <td>0</td>\n",
       "      <td>2018.0</td>\n",
       "      <td>Pre-registered</td>\n",
       "      <td>diesel</td>\n",
       "      <td>NaN</td>\n",
       "      <td>4.7</td>\n",
       "      <td>5.1</td>\n",
       "      <td>4.4</td>\n",
       "      <td>NaN</td>\n",
       "      <td>NaN</td>\n",
       "    </tr>\n",
       "    <tr>\n",
       "      <th>15692</th>\n",
       "      <td>Renault Espace</td>\n",
       "      <td>NaN</td>\n",
       "      <td>38200</td>\n",
       "      <td>VAT deductible</td>\n",
       "      <td>1.0</td>\n",
       "      <td>NaN</td>\n",
       "      <td>118.0</td>\n",
       "      <td>NaN</td>\n",
       "      <td>NaN</td>\n",
       "      <td>Black</td>\n",
       "      <td>...</td>\n",
       "      <td>0</td>\n",
       "      <td>2019.0</td>\n",
       "      <td>Pre-registered</td>\n",
       "      <td>diesel</td>\n",
       "      <td>NaN</td>\n",
       "      <td>4.7</td>\n",
       "      <td>5.1</td>\n",
       "      <td>4.4</td>\n",
       "      <td>NaN</td>\n",
       "      <td>NaN</td>\n",
       "    </tr>\n",
       "    <tr>\n",
       "      <th>15708</th>\n",
       "      <td>Renault Espace</td>\n",
       "      <td>NaN</td>\n",
       "      <td>37100</td>\n",
       "      <td>VAT deductible</td>\n",
       "      <td>1.0</td>\n",
       "      <td>NaN</td>\n",
       "      <td>118.0</td>\n",
       "      <td>NaN</td>\n",
       "      <td>NaN</td>\n",
       "      <td>White</td>\n",
       "      <td>...</td>\n",
       "      <td>0</td>\n",
       "      <td>2019.0</td>\n",
       "      <td>Pre-registered</td>\n",
       "      <td>diesel</td>\n",
       "      <td>NaN</td>\n",
       "      <td>4.7</td>\n",
       "      <td>5.1</td>\n",
       "      <td>4.4</td>\n",
       "      <td>NaN</td>\n",
       "      <td>NaN</td>\n",
       "    </tr>\n",
       "    <tr>\n",
       "      <th>15732</th>\n",
       "      <td>Renault Espace</td>\n",
       "      <td>NaN</td>\n",
       "      <td>35448</td>\n",
       "      <td>NaN</td>\n",
       "      <td>10.0</td>\n",
       "      <td>NaN</td>\n",
       "      <td>165.0</td>\n",
       "      <td>NaN</td>\n",
       "      <td>NaN</td>\n",
       "      <td>Grey</td>\n",
       "      <td>...</td>\n",
       "      <td>0</td>\n",
       "      <td>NaN</td>\n",
       "      <td>Used</td>\n",
       "      <td>benzine</td>\n",
       "      <td>NaN</td>\n",
       "      <td>NaN</td>\n",
       "      <td>NaN</td>\n",
       "      <td>NaN</td>\n",
       "      <td>NaN</td>\n",
       "      <td>NaN</td>\n",
       "    </tr>\n",
       "    <tr>\n",
       "      <th>15766</th>\n",
       "      <td>Renault Espace</td>\n",
       "      <td>NaN</td>\n",
       "      <td>35930</td>\n",
       "      <td>NaN</td>\n",
       "      <td>10.0</td>\n",
       "      <td>NaN</td>\n",
       "      <td>118.0</td>\n",
       "      <td>NaN</td>\n",
       "      <td>NaN</td>\n",
       "      <td>Grey</td>\n",
       "      <td>...</td>\n",
       "      <td>0</td>\n",
       "      <td>NaN</td>\n",
       "      <td>Used</td>\n",
       "      <td>diesel</td>\n",
       "      <td>NaN</td>\n",
       "      <td>4.6</td>\n",
       "      <td>5.0</td>\n",
       "      <td>4.4</td>\n",
       "      <td>NaN</td>\n",
       "      <td>NaN</td>\n",
       "    </tr>\n",
       "  </tbody>\n",
       "</table>\n",
       "<p>60 rows × 35 columns</p>\n",
       "</div>"
      ],
      "text/plain": [
       "           make_model body_type  price               vat        km  \\\n",
       "3175          Audi A3       NaN  14400               NaN  119000.0   \n",
       "3255          Audi A3       NaN  18500  Price negotiable   70000.0   \n",
       "3975          Audi A3       NaN  19950               NaN   25000.0   \n",
       "3997          Audi A3       NaN  19750    VAT deductible   38800.0   \n",
       "4206          Audi A3       NaN  18490               NaN   20000.0   \n",
       "4297          Audi A3       NaN  17990               NaN   20000.0   \n",
       "4298          Audi A3       NaN  17990               NaN   20000.0   \n",
       "5718       Opel Astra       NaN  12990               NaN   47000.0   \n",
       "5938       Opel Astra       NaN  12990               NaN   47000.0   \n",
       "5940       Opel Astra       NaN  12990               NaN   47000.0   \n",
       "6919       Opel Astra       NaN  11990               NaN   64000.0   \n",
       "6921       Opel Astra       NaN  11990               NaN   64000.0   \n",
       "6926       Opel Astra       NaN  11990               NaN   64000.0   \n",
       "7708       Opel Astra       NaN  26490               NaN    6000.0   \n",
       "8407       Opel Corsa       NaN  12435    VAT deductible   21050.0   \n",
       "8583       Opel Corsa       NaN   8900               NaN   43731.0   \n",
       "10833   Opel Insignia       NaN  11490               NaN   99000.0   \n",
       "10834   Opel Insignia       NaN  11490               NaN   99000.0   \n",
       "10853   Opel Insignia       NaN  11490               NaN   99000.0   \n",
       "13426    Renault Clio       NaN   7990    VAT deductible   76021.0   \n",
       "13466    Renault Clio       NaN   8490               NaN   39990.0   \n",
       "13572    Renault Clio       NaN   7980    VAT deductible   79980.0   \n",
       "13699    Renault Clio       NaN   7690    VAT deductible   63372.0   \n",
       "13721    Renault Clio       NaN   7490    VAT deductible   69031.0   \n",
       "13848    Renault Clio       NaN   8500               NaN   34564.0   \n",
       "13896    Renault Clio       NaN   9490    VAT deductible   84496.0   \n",
       "14103    Renault Clio       NaN   9990               NaN   39000.0   \n",
       "14120    Renault Clio       NaN   9990    VAT deductible      15.0   \n",
       "14123    Renault Clio       NaN   9990    VAT deductible      15.0   \n",
       "14130    Renault Clio       NaN   9980    VAT deductible      10.0   \n",
       "14131    Renault Clio       NaN   9980    VAT deductible      10.0   \n",
       "14476    Renault Clio       NaN  10000               NaN    8000.0   \n",
       "14865    Renault Clio       NaN  10850    VAT deductible      10.0   \n",
       "14866    Renault Clio       NaN  10850    VAT deductible      10.0   \n",
       "14924  Renault Espace       NaN  17500               NaN  141000.0   \n",
       "14986  Renault Espace       NaN  26800               NaN     332.0   \n",
       "15054  Renault Espace       NaN  24990               NaN   45000.0   \n",
       "15055  Renault Espace       NaN  24990               NaN   45000.0   \n",
       "15056  Renault Espace       NaN  24990               NaN   45000.0   \n",
       "15120  Renault Espace       NaN  24500               NaN   58078.0   \n",
       "15265  Renault Espace       NaN  17500               NaN  141000.0   \n",
       "15271  Renault Espace       NaN  17500               NaN  141000.0   \n",
       "15285  Renault Espace       NaN  28140               NaN      10.0   \n",
       "15303  Renault Espace       NaN  31000               NaN      10.0   \n",
       "15374  Renault Espace       NaN  26450               NaN      10.0   \n",
       "15433  Renault Espace       NaN  33000    VAT deductible       NaN   \n",
       "15448  Renault Espace       NaN  33300               NaN      10.0   \n",
       "15452  Renault Espace       NaN  33400               NaN     886.0   \n",
       "15453  Renault Espace       NaN  33400               NaN     454.0   \n",
       "15484  Renault Espace       NaN  32600               NaN      10.0   \n",
       "15485  Renault Espace       NaN  32576    VAT deductible   10100.0   \n",
       "15487  Renault Espace       NaN  32576    VAT deductible   10100.0   \n",
       "15495  Renault Espace       NaN  32200               NaN      10.0   \n",
       "15540  Renault Espace       NaN  29750               NaN      10.0   \n",
       "15552  Renault Espace       NaN  30160               NaN      10.0   \n",
       "15585  Renault Espace       NaN  31000    VAT deductible       NaN   \n",
       "15692  Renault Espace       NaN  38200    VAT deductible       1.0   \n",
       "15708  Renault Espace       NaN  37100    VAT deductible       1.0   \n",
       "15732  Renault Espace       NaN  35448               NaN      10.0   \n",
       "15766  Renault Espace       NaN  35930               NaN      10.0   \n",
       "\n",
       "       prev_owner     hp inspection_new  warranty body_color  ...  \\\n",
       "3175          1.0   81.0            NaN       NaN      Black  ...   \n",
       "3255          NaN   81.0            NaN       NaN      White  ...   \n",
       "3975          2.0   85.0            NaN       NaN       Blue  ...   \n",
       "3997          1.0   82.0            NaN       6.0      Black  ...   \n",
       "4206          NaN   92.0            NaN       NaN      White  ...   \n",
       "4297          NaN   92.0            NaN       NaN      White  ...   \n",
       "4298          NaN   92.0            NaN       NaN      White  ...   \n",
       "5718          NaN  100.0            NaN       NaN      Black  ...   \n",
       "5938          NaN  100.0            NaN       NaN      Black  ...   \n",
       "5940          NaN  100.0            NaN       NaN      Black  ...   \n",
       "6919          NaN   81.0            NaN       NaN      Black  ...   \n",
       "6921          NaN   81.0            NaN       NaN      Black  ...   \n",
       "6926          NaN   81.0            NaN       NaN      Black  ...   \n",
       "7708          NaN  112.0            NaN       NaN       Grey  ...   \n",
       "8407          1.0   44.0            Yes       NaN      White  ...   \n",
       "8583          NaN   51.0            NaN       NaN      Black  ...   \n",
       "10833         NaN  125.0            NaN       NaN      Black  ...   \n",
       "10834         NaN  125.0            NaN       NaN      Black  ...   \n",
       "10853         NaN  125.0            NaN       NaN      Black  ...   \n",
       "13426         NaN   67.0            NaN       NaN      White  ...   \n",
       "13466         NaN   55.0            NaN       NaN      White  ...   \n",
       "13572         1.0   56.0            NaN       3.0      White  ...   \n",
       "13699         NaN   56.0            NaN       6.0      White  ...   \n",
       "13721         NaN   56.0            NaN       6.0      White  ...   \n",
       "13848         NaN   55.0            NaN       NaN      White  ...   \n",
       "13896         NaN   56.0            NaN       NaN      White  ...   \n",
       "14103         NaN   55.0            NaN       NaN      White  ...   \n",
       "14120         1.0   56.0            NaN       NaN      White  ...   \n",
       "14123         1.0   56.0            NaN       NaN      White  ...   \n",
       "14130         NaN   56.0            NaN       NaN      White  ...   \n",
       "14131         NaN   56.0            NaN       NaN      White  ...   \n",
       "14476         NaN   54.0            NaN       NaN        Red  ...   \n",
       "14865         NaN   56.0            NaN       NaN       Grey  ...   \n",
       "14866         NaN   56.0            NaN       NaN      Black  ...   \n",
       "14924         NaN  118.0            NaN       NaN      White  ...   \n",
       "14986         NaN  165.0            NaN       NaN       Grey  ...   \n",
       "15054         NaN  118.0            NaN       NaN      White  ...   \n",
       "15055         NaN  118.0            NaN       NaN      White  ...   \n",
       "15056         NaN  118.0            NaN       NaN      White  ...   \n",
       "15120         NaN  118.0            NaN       NaN       Grey  ...   \n",
       "15265         NaN  118.0            NaN       NaN      White  ...   \n",
       "15271         NaN  118.0            NaN       NaN      White  ...   \n",
       "15285         NaN   96.0            NaN       NaN       Grey  ...   \n",
       "15303         NaN   96.0            NaN       NaN       Grey  ...   \n",
       "15374         NaN   96.0            NaN       NaN       Grey  ...   \n",
       "15433         NaN  118.0            NaN       NaN      Black  ...   \n",
       "15448         NaN  118.0            NaN       NaN       Grey  ...   \n",
       "15452         NaN  118.0            NaN       NaN      Black  ...   \n",
       "15453         NaN  118.0            NaN       NaN      White  ...   \n",
       "15484         NaN  165.0            NaN       NaN       Grey  ...   \n",
       "15485         1.0  118.0            NaN       NaN      Black  ...   \n",
       "15487         1.0  118.0            NaN       NaN      Black  ...   \n",
       "15495         NaN  165.0            NaN       NaN       Grey  ...   \n",
       "15540         NaN  165.0            NaN       NaN       Grey  ...   \n",
       "15552         NaN  118.0            NaN       NaN       Grey  ...   \n",
       "15585         NaN  118.0            NaN       NaN      White  ...   \n",
       "15692         NaN  118.0            NaN       NaN      Black  ...   \n",
       "15708         NaN  118.0            NaN       NaN      White  ...   \n",
       "15732         NaN  165.0            NaN       NaN       Grey  ...   \n",
       "15766         NaN  118.0            NaN       NaN       Grey  ...   \n",
       "\n",
       "      electricity_consumption    year        new_used fuel_type  \\\n",
       "3175                        0  2016.0            Used    diesel   \n",
       "3255                        0  2016.0            Used    diesel   \n",
       "3975                        0  2017.0            Used   benzine   \n",
       "3997                        0  2017.0            Used    diesel   \n",
       "4206                        0  2017.0            Used   benzine   \n",
       "4297                        0  2017.0            Used   benzine   \n",
       "4298                        0  2017.0            Used   benzine   \n",
       "5718                        0  2016.0            Used    diesel   \n",
       "5938                        0  2016.0            Used    diesel   \n",
       "5940                        0  2016.0            Used    diesel   \n",
       "6919                        0  2017.0            Used    diesel   \n",
       "6921                        0  2017.0            Used    diesel   \n",
       "6926                        0  2017.0            Used    diesel   \n",
       "7708                        0  2019.0            Used   benzine   \n",
       "8407                        0  2018.0            Used   benzine   \n",
       "8583                        0  2017.0            Used   benzine   \n",
       "10833                       0  2017.0            Used    diesel   \n",
       "10834                       0  2017.0            Used    diesel   \n",
       "10853                       0  2017.0            Used    diesel   \n",
       "13426                       0  2016.0            Used    diesel   \n",
       "13466                       0  2018.0            Used   benzine   \n",
       "13572                       0  2016.0            Used    diesel   \n",
       "13699                       0  2017.0            Used    diesel   \n",
       "13721                       0  2017.0            Used    diesel   \n",
       "13848                       0  2017.0            Used    diesel   \n",
       "13896                       0  2017.0            Used    diesel   \n",
       "14103                       0  2017.0            Used    diesel   \n",
       "14120                       0  2018.0            Used    diesel   \n",
       "14123                       0  2018.0            Used    diesel   \n",
       "14130                       0  2018.0            Used    diesel   \n",
       "14131                       0  2018.0            Used    diesel   \n",
       "14476                       0  2018.0            Used   benzine   \n",
       "14865                       0     NaN             New   benzine   \n",
       "14866                       0     NaN             New   benzine   \n",
       "14924                       0  2016.0            Used    diesel   \n",
       "14986                       0  2018.0            Used   benzine   \n",
       "15054                       0  2017.0            Used    diesel   \n",
       "15055                       0  2017.0            Used    diesel   \n",
       "15056                       0  2017.0            Used    diesel   \n",
       "15120                       0  2016.0            Used    diesel   \n",
       "15265                       0  2016.0            Used    diesel   \n",
       "15271                       0  2016.0            Used    diesel   \n",
       "15285                       0     NaN            Used    diesel   \n",
       "15303                       0     NaN            Used    diesel   \n",
       "15374                       0     NaN            Used    diesel   \n",
       "15433                       0  2018.0  Pre-registered    diesel   \n",
       "15448                       0     NaN            Used    diesel   \n",
       "15452                       0  2018.0            Used    diesel   \n",
       "15453                       0  2018.0            Used    diesel   \n",
       "15484                       0     NaN            Used   benzine   \n",
       "15485                       0  2018.0            Used    diesel   \n",
       "15487                       0  2018.0            Used    diesel   \n",
       "15495                       0     NaN            Used   benzine   \n",
       "15540                       0     NaN            Used   benzine   \n",
       "15552                       0     NaN            Used    diesel   \n",
       "15585                       0  2018.0  Pre-registered    diesel   \n",
       "15692                       0  2019.0  Pre-registered    diesel   \n",
       "15708                       0  2019.0  Pre-registered    diesel   \n",
       "15732                       0     NaN            Used   benzine   \n",
       "15766                       0     NaN            Used    diesel   \n",
       "\n",
       "       next_inspection_date  consumption_comb  consumption_city  \\\n",
       "3175                    NaN               3.8               4.5   \n",
       "3255             2020-07-01               3.8               4.3   \n",
       "3975             2020-03-01               4.7               5.6   \n",
       "3997                    NaN               NaN               NaN   \n",
       "4206                    NaN               5.1               6.7   \n",
       "4297                    NaN               5.1               6.7   \n",
       "4298                    NaN               5.1               6.7   \n",
       "5718                    NaN               4.5               5.7   \n",
       "5938                    NaN               4.5               5.7   \n",
       "5940                    NaN               4.5               5.7   \n",
       "6919                    NaN               3.7               4.2   \n",
       "6921                    NaN               3.7               4.2   \n",
       "6926                    NaN               3.7               4.2   \n",
       "7708                    NaN               NaN               NaN   \n",
       "8407             2019-04-01               NaN               NaN   \n",
       "8583                    NaN               NaN               NaN   \n",
       "10833                   NaN               5.6               7.8   \n",
       "10834                   NaN               5.6               7.8   \n",
       "10853                   NaN               5.6               7.8   \n",
       "13426                   NaN               NaN               NaN   \n",
       "13466                   NaN               NaN               NaN   \n",
       "13572                   NaN               NaN               NaN   \n",
       "13699                   NaN               NaN               NaN   \n",
       "13721                   NaN               NaN               NaN   \n",
       "13848                   NaN               NaN               NaN   \n",
       "13896                   NaN               NaN               NaN   \n",
       "14103                   NaN               3.3               3.5   \n",
       "14120                   NaN               NaN               NaN   \n",
       "14123                   NaN               NaN               NaN   \n",
       "14130                   NaN               NaN               NaN   \n",
       "14131                   NaN               NaN               NaN   \n",
       "14476                   NaN               5.6               7.2   \n",
       "14865                   NaN               5.0               6.4   \n",
       "14866                   NaN               5.0               6.4   \n",
       "14924                   NaN               4.6               5.0   \n",
       "14986                   NaN               6.8               8.7   \n",
       "15054                   NaN               4.6               5.0   \n",
       "15055                   NaN               4.6               5.0   \n",
       "15056                   NaN               4.6               5.0   \n",
       "15120                   NaN               4.6               5.0   \n",
       "15265                   NaN               4.6               5.0   \n",
       "15271                   NaN               4.6               5.0   \n",
       "15285                   NaN               4.4               5.1   \n",
       "15303                   NaN               4.4               5.1   \n",
       "15374                   NaN               4.4               5.1   \n",
       "15433                   NaN               4.7               5.1   \n",
       "15448                   NaN               4.6               5.0   \n",
       "15452                   NaN               4.6               5.0   \n",
       "15453                   NaN               4.6               5.0   \n",
       "15484                   NaN               NaN               NaN   \n",
       "15485                   NaN               4.6               5.0   \n",
       "15487                   NaN               4.6               5.0   \n",
       "15495                   NaN               NaN               NaN   \n",
       "15540                   NaN               NaN               NaN   \n",
       "15552                   NaN               4.6               5.0   \n",
       "15585                   NaN               4.7               5.1   \n",
       "15692                   NaN               4.7               5.1   \n",
       "15708                   NaN               4.7               5.1   \n",
       "15732                   NaN               NaN               NaN   \n",
       "15766                   NaN               4.6               5.0   \n",
       "\n",
       "      consumption_country  upholstery_material upholstery_color  \n",
       "3175                  3.4                Cloth              NaN  \n",
       "3255                  3.5                Cloth            Beige  \n",
       "3975                  4.2                  NaN              NaN  \n",
       "3997                  NaN                  NaN              NaN  \n",
       "4206                  4.1                  NaN              NaN  \n",
       "4297                  4.1                  NaN              NaN  \n",
       "4298                  4.1                  NaN              NaN  \n",
       "5718                  3.8                  NaN              NaN  \n",
       "5938                  3.8                  NaN              NaN  \n",
       "5940                  3.8                  NaN              NaN  \n",
       "6919                  3.3                  NaN              NaN  \n",
       "6921                  3.3                  NaN              NaN  \n",
       "6926                  3.3                  NaN              NaN  \n",
       "7708                  NaN                  NaN              NaN  \n",
       "8407                  NaN                Cloth            Black  \n",
       "8583                  NaN                  NaN              NaN  \n",
       "10833                 4.2                  NaN              NaN  \n",
       "10834                 4.2                  NaN              NaN  \n",
       "10853                 4.2                  NaN              NaN  \n",
       "13426                 NaN                  NaN              NaN  \n",
       "13466                 NaN                  NaN              NaN  \n",
       "13572                 NaN                  NaN              NaN  \n",
       "13699                 NaN                  NaN              NaN  \n",
       "13721                 NaN                  NaN              NaN  \n",
       "13848                 NaN                  NaN              NaN  \n",
       "13896                 NaN                  NaN              NaN  \n",
       "14103                 3.1                  NaN              NaN  \n",
       "14120                 NaN                  NaN              NaN  \n",
       "14123                 NaN                  NaN              NaN  \n",
       "14130                 NaN                  NaN              NaN  \n",
       "14131                 NaN                  NaN              NaN  \n",
       "14476                 4.7                Cloth            Black  \n",
       "14865                 4.2                Cloth            Black  \n",
       "14866                 4.2                Cloth            Black  \n",
       "14924                 4.4                  NaN              NaN  \n",
       "14986                 5.6                  NaN              NaN  \n",
       "15054                 4.4                  NaN              NaN  \n",
       "15055                 4.4                  NaN              NaN  \n",
       "15056                 4.4                  NaN              NaN  \n",
       "15120                 4.4                  NaN              NaN  \n",
       "15265                 4.4                  NaN              NaN  \n",
       "15271                 4.4                  NaN              NaN  \n",
       "15285                 4.0                  NaN              NaN  \n",
       "15303                 4.0                  NaN              NaN  \n",
       "15374                 4.0                  NaN              NaN  \n",
       "15433                 4.4                  NaN              NaN  \n",
       "15448                 4.4                  NaN              NaN  \n",
       "15452                 4.4                  NaN              NaN  \n",
       "15453                 4.4                  NaN              NaN  \n",
       "15484                 NaN                  NaN              NaN  \n",
       "15485                 4.4         Full leather            Brown  \n",
       "15487                 4.4         Full leather            Brown  \n",
       "15495                 NaN                  NaN              NaN  \n",
       "15540                 NaN                  NaN              NaN  \n",
       "15552                 4.4                  NaN              NaN  \n",
       "15585                 4.4                  NaN              NaN  \n",
       "15692                 4.4                  NaN              NaN  \n",
       "15708                 4.4                  NaN              NaN  \n",
       "15732                 NaN                  NaN              NaN  \n",
       "15766                 4.4                  NaN              NaN  \n",
       "\n",
       "[60 rows x 35 columns]"
      ]
     },
     "execution_count": 7,
     "metadata": {},
     "output_type": "execute_result"
    }
   ],
   "source": [
    "auto[auto.body_type.isnull()]"
   ]
  },
  {
   "cell_type": "code",
   "execution_count": 8,
   "metadata": {},
   "outputs": [
    {
     "data": {
      "text/plain": [
       "0        Sedans\n",
       "1        Sedans\n",
       "2        Sedans\n",
       "3        Sedans\n",
       "4        Sedans\n",
       "          ...  \n",
       "15910       Van\n",
       "15911       Van\n",
       "15912       Van\n",
       "15913       Van\n",
       "15914       Van\n",
       "Name: body_type, Length: 15915, dtype: object"
      ]
     },
     "execution_count": 8,
     "metadata": {},
     "output_type": "execute_result"
    }
   ],
   "source": [
    "auto.groupby('make_model')['body_type'].transform(lambda x: x.mode()[0])"
   ]
  },
  {
   "cell_type": "code",
   "execution_count": 9,
   "metadata": {},
   "outputs": [],
   "source": [
    "auto[\"body_type\"].fillna(auto.groupby('make_model')['body_type'].transform(lambda x: x.mode()[0]), inplace=True)"
   ]
  },
  {
   "cell_type": "code",
   "execution_count": 10,
   "metadata": {
    "scrolled": true
   },
   "outputs": [
    {
     "data": {
      "text/plain": [
       "Sedans           7924\n",
       "Station wagon    3562\n",
       "Compact          3154\n",
       "Van               809\n",
       "Other             289\n",
       "Transporter        88\n",
       "Off-Road           56\n",
       "Coupe              25\n",
       "Convertible         8\n",
       "Name: body_type, dtype: int64"
      ]
     },
     "execution_count": 10,
     "metadata": {},
     "output_type": "execute_result"
    }
   ],
   "source": [
    "auto[\"body_type\"].value_counts(dropna=False)"
   ]
  },
  {
   "cell_type": "markdown",
   "metadata": {},
   "source": [
    "* body_type column was filled with most frequent values of models."
   ]
  },
  {
   "cell_type": "markdown",
   "metadata": {},
   "source": [
    "## new_used column"
   ]
  },
  {
   "cell_type": "code",
   "execution_count": 11,
   "metadata": {},
   "outputs": [],
   "source": [
    "auto.loc[(auto['new_used'] == 'New') & (auto['km']>3000),'new_used'] = 'Used'"
   ]
  },
  {
   "cell_type": "code",
   "execution_count": 12,
   "metadata": {
    "scrolled": true
   },
   "outputs": [],
   "source": [
    "auto.loc[auto.new_used.isnull(),'new_used'] = 'Used'"
   ]
  },
  {
   "cell_type": "markdown",
   "metadata": {},
   "source": [
    "## year column"
   ]
  },
  {
   "cell_type": "code",
   "execution_count": 13,
   "metadata": {},
   "outputs": [],
   "source": [
    "auto.loc[((auto['new_used'] == 'New') & auto.year.isnull()), 'year'] = 2019 "
   ]
  },
  {
   "cell_type": "markdown",
   "metadata": {},
   "source": [
    "* Since the registration of all new cars is 2019, null values of year column of new cars filled with 2019."
   ]
  },
  {
   "cell_type": "code",
   "execution_count": 14,
   "metadata": {},
   "outputs": [
    {
     "data": {
      "text/plain": [
       "(array([55367.33760684, 23698.34782609, 14558.46067416,  2580.69387755]),\n",
       " array([26688.26998546, 18465.42605156,  8234.37216299,  3548.245882  ]),\n",
       " array([42023.20261411, 14465.63480031, 10441.27459266,   806.57093655]))"
      ]
     },
     "execution_count": 14,
     "metadata": {},
     "output_type": "execute_result"
    }
   ],
   "source": [
    "mean = auto[(auto['make_model'] == 'Audi A1') & (auto['body_type'] == 'Compact')].groupby('year').km.mean()\n",
    "std = auto[(auto['make_model'] == 'Audi A1') & (auto['body_type'] == 'Compact')].groupby('year').km.std()\n",
    "mean.values, std.values, mean.values-std.values/2"
   ]
  },
  {
   "cell_type": "code",
   "execution_count": 15,
   "metadata": {},
   "outputs": [],
   "source": [
    "def year_fill(year,km,mean,std):\n",
    "    if pd.isna(year):\n",
    "        for i in range(len(mean.values)):\n",
    "            if mean.index[i] == 2016:\n",
    "                if km >= (mean.values[i]-(std.values[i]/2)):\n",
    "                    return 2016\n",
    "            if mean.index[i] == 2017:\n",
    "                if (km >= (mean.values[i]-std.values[i]/2)) | (km <= (mean.values[i]+std.values[i]/2)):\n",
    "                    return 2017\n",
    "            if mean.index[i] == 2018:\n",
    "                if (km >= (mean.values[i]-std.values[i]/2)) | (km <= (mean.values[i]+std.values[i]/2)):\n",
    "                    return 2018\n",
    "            if mean.index[i] == 2019:\n",
    "                if km <= (mean.values[i]+std.values[i]/2):\n",
    "                    return 2019\n",
    "    else:\n",
    "        return year"
   ]
  },
  {
   "cell_type": "code",
   "execution_count": 16,
   "metadata": {},
   "outputs": [],
   "source": [
    "for group1 in list(auto['make_model'].unique()):\n",
    "    for group2 in list(auto['body_type'].unique()):\n",
    "        cond1 = auto['make_model'] == group1\n",
    "        cond2 = auto['body_type'] == group2\n",
    "        mean = auto[cond1 & cond2].groupby('year').km.mean()\n",
    "        std = auto[cond1 & cond2].groupby('year').km.std()\n",
    "        auto.loc[cond1 & cond2, 'year'] = (auto[cond1 & cond2]\n",
    "                                  .apply(lambda x: year_fill(x['year'],x['km'],mean,std),axis=1))"
   ]
  },
  {
   "cell_type": "markdown",
   "metadata": {},
   "source": [
    "* Rest of the null values were filled according to km of autos."
   ]
  },
  {
   "cell_type": "code",
   "execution_count": 17,
   "metadata": {},
   "outputs": [],
   "source": [
    "def year_fill(year,price,mean,std):\n",
    "    if pd.isna(year):\n",
    "        for i in range(len(mean.values)):\n",
    "            if mean.index[i] == 2019:\n",
    "                if price >= (mean.values[i]-(std.values[i]/2)):\n",
    "                    return 2019\n",
    "            if mean.index[i] == 2018:\n",
    "                if (price >= (mean.values[i]-std.values[i]/2)) | (price <= (mean.values[i]+std.values[i]/2)):\n",
    "                    return 2018\n",
    "            if mean.index[i] == 2017:\n",
    "                if (price >= (mean.values[i]-std.values[i]/2)) | (price <= (mean.values[i]+std.values[i]/2)):\n",
    "                    return 2017\n",
    "            if mean.index[i] == 2016:\n",
    "                if price <= (mean.values[i]+std.values[i]):\n",
    "                    return 2016\n",
    "    else:\n",
    "        return year"
   ]
  },
  {
   "cell_type": "code",
   "execution_count": 18,
   "metadata": {},
   "outputs": [],
   "source": [
    "for group1 in list(auto['make_model'].unique()):\n",
    "    for group2 in list(auto['body_type'].unique()):\n",
    "        cond1 = auto['make_model'] == group1\n",
    "        cond2 = auto['body_type'] == group2\n",
    "        mean = auto[cond1 & cond2].groupby('year').price.mean()\n",
    "        std = auto[cond1 & cond2].groupby('year').price.std()\n",
    "        auto.loc[cond1 & cond2, 'year'] = (auto[cond1 & cond2]\n",
    "                                  .apply(lambda x: year_fill(x['year'],x['price'],mean,std),axis=1))"
   ]
  },
  {
   "cell_type": "markdown",
   "metadata": {},
   "source": [
    "* Rest of the null values were filled according to price of autos."
   ]
  },
  {
   "cell_type": "code",
   "execution_count": 19,
   "metadata": {
    "scrolled": true
   },
   "outputs": [
    {
     "data": {
      "text/html": [
       "<div>\n",
       "<style scoped>\n",
       "    .dataframe tbody tr th:only-of-type {\n",
       "        vertical-align: middle;\n",
       "    }\n",
       "\n",
       "    .dataframe tbody tr th {\n",
       "        vertical-align: top;\n",
       "    }\n",
       "\n",
       "    .dataframe thead th {\n",
       "        text-align: right;\n",
       "    }\n",
       "</style>\n",
       "<table border=\"1\" class=\"dataframe\">\n",
       "  <thead>\n",
       "    <tr style=\"text-align: right;\">\n",
       "      <th></th>\n",
       "      <th>make_model</th>\n",
       "      <th>body_type</th>\n",
       "      <th>price</th>\n",
       "      <th>vat</th>\n",
       "      <th>km</th>\n",
       "      <th>prev_owner</th>\n",
       "      <th>hp</th>\n",
       "      <th>inspection_new</th>\n",
       "      <th>warranty</th>\n",
       "      <th>body_color</th>\n",
       "      <th>...</th>\n",
       "      <th>electricity_consumption</th>\n",
       "      <th>year</th>\n",
       "      <th>new_used</th>\n",
       "      <th>fuel_type</th>\n",
       "      <th>next_inspection_date</th>\n",
       "      <th>consumption_comb</th>\n",
       "      <th>consumption_city</th>\n",
       "      <th>consumption_country</th>\n",
       "      <th>upholstery_material</th>\n",
       "      <th>upholstery_color</th>\n",
       "    </tr>\n",
       "  </thead>\n",
       "  <tbody>\n",
       "  </tbody>\n",
       "</table>\n",
       "<p>0 rows × 35 columns</p>\n",
       "</div>"
      ],
      "text/plain": [
       "Empty DataFrame\n",
       "Columns: [make_model, body_type, price, vat, km, prev_owner, hp, inspection_new, warranty, body_color, paint_type, nr_of_doors, nr_of_seats, gearing_type, displacement, cylinders, weight, drive_chain, co2_emission, emission_class, comfort_convenience, entertainment_media, extras, safety_security, gears, electricity_consumption, year, new_used, fuel_type, next_inspection_date, consumption_comb, consumption_city, consumption_country, upholstery_material, upholstery_color]\n",
       "Index: []\n",
       "\n",
       "[0 rows x 35 columns]"
      ]
     },
     "execution_count": 19,
     "metadata": {},
     "output_type": "execute_result"
    }
   ],
   "source": [
    "auto[auto.year.isnull()]"
   ]
  },
  {
   "cell_type": "code",
   "execution_count": 21,
   "metadata": {},
   "outputs": [
    {
     "data": {
      "text/plain": [
       "2018.0    4520\n",
       "2019.0    4398\n",
       "2016.0    3679\n",
       "2017.0    3318\n",
       "Name: year, dtype: int64"
      ]
     },
     "execution_count": 21,
     "metadata": {},
     "output_type": "execute_result"
    }
   ],
   "source": [
    "auto.year.value_counts(dropna=False)"
   ]
  },
  {
   "cell_type": "code",
   "execution_count": 22,
   "metadata": {},
   "outputs": [],
   "source": [
    "auto['year'] = 2019 - auto['year']\n",
    "\n",
    "auto = auto.rename(columns = {'year': 'age'})"
   ]
  },
  {
   "cell_type": "markdown",
   "metadata": {},
   "source": [
    "* year column converted to age column. Since the registration date of new cars in data is 2019, the age of these cars is 0. "
   ]
  },
  {
   "cell_type": "markdown",
   "metadata": {},
   "source": [
    "## vat column"
   ]
  },
  {
   "cell_type": "code",
   "execution_count": 22,
   "metadata": {},
   "outputs": [
    {
     "data": {
      "text/plain": [
       "VAT deductible      10980\n",
       "NaN                  4509\n",
       "Price negotiable      426\n",
       "Name: vat, dtype: int64"
      ]
     },
     "execution_count": 22,
     "metadata": {},
     "output_type": "execute_result"
    }
   ],
   "source": [
    "auto.vat.value_counts(dropna=False)"
   ]
  },
  {
   "cell_type": "code",
   "execution_count": 23,
   "metadata": {},
   "outputs": [],
   "source": [
    "auto['vat'] = auto['vat'].fillna('VAT undeductible')"
   ]
  },
  {
   "cell_type": "markdown",
   "metadata": {},
   "source": [
    "* All null values of vat column assigned as 'VAT undeductible'"
   ]
  },
  {
   "cell_type": "markdown",
   "metadata": {},
   "source": [
    "## km column"
   ]
  },
  {
   "cell_type": "code",
   "execution_count": 24,
   "metadata": {},
   "outputs": [],
   "source": [
    "median_group_km = auto.groupby(['make_model','body_type','age']).km.transform(lambda x: x.median())"
   ]
  },
  {
   "cell_type": "code",
   "execution_count": 25,
   "metadata": {},
   "outputs": [],
   "source": [
    "auto[\"km\"].fillna(median_group_km, inplace=True)"
   ]
  },
  {
   "cell_type": "code",
   "execution_count": 26,
   "metadata": {},
   "outputs": [],
   "source": [
    "auto[\"km\"].fillna(auto.groupby(['make_model','age']).km.transform(lambda x: x.median()), inplace=True)"
   ]
  },
  {
   "cell_type": "markdown",
   "metadata": {},
   "source": [
    "* km column filled with groups age, make_model and body_type"
   ]
  },
  {
   "cell_type": "markdown",
   "metadata": {},
   "source": [
    "## prev_owner "
   ]
  },
  {
   "cell_type": "code",
   "execution_count": 27,
   "metadata": {},
   "outputs": [],
   "source": [
    "index=auto[auto[\"km\"]<100].index"
   ]
  },
  {
   "cell_type": "code",
   "execution_count": 28,
   "metadata": {},
   "outputs": [],
   "source": [
    "auto.loc[index,\"prev_owner\"]=0.0"
   ]
  },
  {
   "cell_type": "code",
   "execution_count": 29,
   "metadata": {},
   "outputs": [],
   "source": [
    "auto.loc[(auto[\"new_used\"]==\"New\") & (auto[\"prev_owner\"].isnull()),\"prev_owner\"]=1.0"
   ]
  },
  {
   "cell_type": "code",
   "execution_count": 30,
   "metadata": {},
   "outputs": [],
   "source": [
    "auto.loc[((auto[\"age\"]==0) | (auto[\"km\"]<5000)) & (auto[\"prev_owner\"].isnull()),\"prev_owner\"]=1.0"
   ]
  },
  {
   "cell_type": "code",
   "execution_count": 31,
   "metadata": {},
   "outputs": [],
   "source": [
    "mode_group_po = auto.groupby(['age'])['prev_owner'].transform(lambda x: x.mode()[0] if list(x.mode()) != [] else np.nan)"
   ]
  },
  {
   "cell_type": "code",
   "execution_count": 32,
   "metadata": {},
   "outputs": [],
   "source": [
    "auto[\"prev_owner\"].fillna(mode_group_po, inplace=True)"
   ]
  },
  {
   "cell_type": "markdown",
   "metadata": {},
   "source": [
    "## hp"
   ]
  },
  {
   "cell_type": "code",
   "execution_count": 33,
   "metadata": {},
   "outputs": [],
   "source": [
    "mode_hp = auto[~(auto['displacement'].isnull())]\\\n",
    "              .groupby(['make_model','body_type','displacement'])['hp']\\\n",
    "              .transform(lambda x: x.mode()[0] if list(x.mode()) != [] else np.nan)"
   ]
  },
  {
   "cell_type": "code",
   "execution_count": 34,
   "metadata": {},
   "outputs": [],
   "source": [
    "auto.loc[~(auto['displacement'].isnull()),\"hp\"] = auto.loc[~(auto['displacement'].isnull()),\"hp\"].fillna(mode_hp)"
   ]
  },
  {
   "cell_type": "code",
   "execution_count": 35,
   "metadata": {},
   "outputs": [],
   "source": [
    "mode_hp1 = auto[~(auto['displacement'].isnull())]\\\n",
    "              .groupby(['make_model','displacement'])['hp']\\\n",
    "              .transform(lambda x: x.mode()[0] if list(x.mode()) != [] else np.nan)"
   ]
  },
  {
   "cell_type": "code",
   "execution_count": 36,
   "metadata": {},
   "outputs": [],
   "source": [
    "auto.loc[~(auto['displacement'].isnull()),\"hp\"] = auto.loc[~(auto['displacement'].isnull()),\"hp\"].fillna(mode_hp1)"
   ]
  },
  {
   "cell_type": "code",
   "execution_count": 37,
   "metadata": {},
   "outputs": [],
   "source": [
    "mode_hp2 = auto[~(auto['displacement'].isnull())]\\\n",
    "              .groupby(['make_model','body_type'])['hp']\\\n",
    "              .transform(lambda x: x.mode()[0] if list(x.mode()) != [] else np.nan)"
   ]
  },
  {
   "cell_type": "code",
   "execution_count": 38,
   "metadata": {},
   "outputs": [],
   "source": [
    "auto[\"hp\"] = auto[\"hp\"].fillna(mode_hp2)"
   ]
  },
  {
   "cell_type": "code",
   "execution_count": 39,
   "metadata": {},
   "outputs": [],
   "source": [
    "mode_hp2 = auto.groupby(['make_model','body_type'])['hp']\\\n",
    "              .transform(lambda x: x.mode()[0] if list(x.mode()) != [] else np.nan)"
   ]
  },
  {
   "cell_type": "code",
   "execution_count": 40,
   "metadata": {},
   "outputs": [],
   "source": [
    "auto[\"hp\"] = auto[\"hp\"].fillna(mode_hp2)"
   ]
  },
  {
   "cell_type": "code",
   "execution_count": 41,
   "metadata": {},
   "outputs": [],
   "source": [
    "mode_hp3 = auto.groupby(['make_model'])['hp']\\\n",
    "              .transform(lambda x: x.mode()[0] if list(x.mode()) != [] else np.nan)"
   ]
  },
  {
   "cell_type": "code",
   "execution_count": 42,
   "metadata": {},
   "outputs": [],
   "source": [
    "auto[\"hp\"] = auto[\"hp\"].fillna(mode_hp3)"
   ]
  },
  {
   "cell_type": "markdown",
   "metadata": {},
   "source": [
    "## warranty"
   ]
  },
  {
   "cell_type": "code",
   "execution_count": 43,
   "metadata": {},
   "outputs": [],
   "source": [
    "auto[\"warranty\"] = auto[\"warranty\"].fillna(0)"
   ]
  },
  {
   "cell_type": "markdown",
   "metadata": {},
   "source": [
    "* warranty column was filled with 0's"
   ]
  },
  {
   "cell_type": "markdown",
   "metadata": {},
   "source": [
    "## body color"
   ]
  },
  {
   "cell_type": "code",
   "execution_count": 44,
   "metadata": {},
   "outputs": [],
   "source": [
    "mode_color = auto.groupby(['make_model','body_type'])['body_color']\\\n",
    "              .transform(lambda x: x.mode()[0] if list(x.mode()) != [] else np.nan)"
   ]
  },
  {
   "cell_type": "code",
   "execution_count": 45,
   "metadata": {},
   "outputs": [],
   "source": [
    "auto[\"body_color\"] = auto[\"body_color\"].fillna(mode_color)"
   ]
  },
  {
   "cell_type": "code",
   "execution_count": 46,
   "metadata": {},
   "outputs": [],
   "source": [
    "mode_color2 = auto.groupby(['make_model'])['body_color']\\\n",
    "              .transform(lambda x: x.mode()[0] if list(x.mode()) != [] else np.nan)"
   ]
  },
  {
   "cell_type": "code",
   "execution_count": 47,
   "metadata": {},
   "outputs": [],
   "source": [
    "auto[\"body_color\"] = auto[\"body_color\"].fillna(mode_color2)"
   ]
  },
  {
   "cell_type": "markdown",
   "metadata": {},
   "source": [
    "* body_color column was filled according to groups make_model, body_type "
   ]
  },
  {
   "cell_type": "markdown",
   "metadata": {},
   "source": [
    "## paint type"
   ]
  },
  {
   "cell_type": "code",
   "execution_count": 48,
   "metadata": {},
   "outputs": [],
   "source": [
    "mode_paint = auto.groupby(['make_model','body_color'])['paint_type']\\\n",
    "              .transform(lambda x: x.mode()[0] if list(x.mode()) != [] else np.nan)"
   ]
  },
  {
   "cell_type": "code",
   "execution_count": 49,
   "metadata": {},
   "outputs": [],
   "source": [
    "auto[\"paint_type\"] = auto[\"paint_type\"].fillna(mode_paint)"
   ]
  },
  {
   "cell_type": "code",
   "execution_count": 50,
   "metadata": {},
   "outputs": [],
   "source": [
    "mode_paint2 = auto.groupby(['make_model'])['paint_type']\\\n",
    "              .transform(lambda x: x.mode()[0] if list(x.mode()) != [] else np.nan)"
   ]
  },
  {
   "cell_type": "code",
   "execution_count": 51,
   "metadata": {},
   "outputs": [],
   "source": [
    "auto[\"paint_type\"] = auto[\"paint_type\"].fillna(mode_paint2)"
   ]
  },
  {
   "cell_type": "markdown",
   "metadata": {},
   "source": [
    "* paint_type column was filled according to groups make_model, body_type"
   ]
  },
  {
   "cell_type": "markdown",
   "metadata": {},
   "source": [
    "## nr_of_seats              "
   ]
  },
  {
   "cell_type": "code",
   "execution_count": 52,
   "metadata": {},
   "outputs": [],
   "source": [
    "mode_seats = auto.groupby(['make_model','body_type'])['nr_of_seats']\\\n",
    "              .transform(lambda x: x.mode()[0] if list(x.mode()) != [] else np.nan)"
   ]
  },
  {
   "cell_type": "code",
   "execution_count": 53,
   "metadata": {},
   "outputs": [],
   "source": [
    "auto[\"nr_of_seats\"] = auto[\"nr_of_seats\"].fillna(mode_seats)"
   ]
  },
  {
   "cell_type": "code",
   "execution_count": 54,
   "metadata": {},
   "outputs": [],
   "source": [
    "mode_seats2 = auto.groupby(['make_model'])['nr_of_seats']\\\n",
    "              .transform(lambda x: x.mode()[0] if list(x.mode()) != [] else np.nan)"
   ]
  },
  {
   "cell_type": "code",
   "execution_count": 55,
   "metadata": {},
   "outputs": [],
   "source": [
    "auto[\"nr_of_seats\"] = auto[\"nr_of_seats\"].fillna(mode_seats2)"
   ]
  },
  {
   "cell_type": "markdown",
   "metadata": {},
   "source": [
    "* nr_of_seats column was filled according to groups make_model, body_type"
   ]
  },
  {
   "cell_type": "markdown",
   "metadata": {},
   "source": [
    "## nr_of_doors              "
   ]
  },
  {
   "cell_type": "code",
   "execution_count": 56,
   "metadata": {},
   "outputs": [],
   "source": [
    "mode_doors = auto.groupby(['make_model','body_type'])['nr_of_doors']\\\n",
    "              .transform(lambda x: x.mode()[0] if list(x.mode()) != [] else np.nan)"
   ]
  },
  {
   "cell_type": "code",
   "execution_count": 57,
   "metadata": {},
   "outputs": [],
   "source": [
    "auto[\"nr_of_doors\"] = auto[\"nr_of_doors\"].fillna(mode_doors)"
   ]
  },
  {
   "cell_type": "code",
   "execution_count": 58,
   "metadata": {},
   "outputs": [],
   "source": [
    "mode_doors2 = auto.groupby(['make_model'])['nr_of_doors']\\\n",
    "              .transform(lambda x: x.mode()[0] if list(x.mode()) != [] else np.nan)"
   ]
  },
  {
   "cell_type": "code",
   "execution_count": 59,
   "metadata": {},
   "outputs": [],
   "source": [
    "auto[\"nr_of_doors\"] = auto[\"nr_of_doors\"].fillna(mode_doors2)"
   ]
  },
  {
   "cell_type": "markdown",
   "metadata": {},
   "source": [
    "* nr_of_doors column was filled according to groups make_model, body_type"
   ]
  },
  {
   "cell_type": "markdown",
   "metadata": {},
   "source": [
    "## displacement"
   ]
  },
  {
   "cell_type": "code",
   "execution_count": 60,
   "metadata": {},
   "outputs": [],
   "source": [
    "mode_disp = auto.groupby(['make_model','body_type','hp'])['displacement']\\\n",
    "              .transform(lambda x: x.mode()[0] if list(x.mode()) != [] else np.nan)"
   ]
  },
  {
   "cell_type": "code",
   "execution_count": 61,
   "metadata": {},
   "outputs": [],
   "source": [
    "auto[\"displacement\"] = auto[\"displacement\"].fillna(mode_disp)"
   ]
  },
  {
   "cell_type": "code",
   "execution_count": 62,
   "metadata": {},
   "outputs": [],
   "source": [
    "mode_disp2 = auto.groupby(['make_model','body_type'])['displacement']\\\n",
    "              .transform(lambda x: x.mode()[0] if list(x.mode()) != [] else np.nan)"
   ]
  },
  {
   "cell_type": "code",
   "execution_count": 63,
   "metadata": {},
   "outputs": [],
   "source": [
    "auto[\"displacement\"] = auto[\"displacement\"].fillna(mode_disp2)"
   ]
  },
  {
   "cell_type": "code",
   "execution_count": 64,
   "metadata": {},
   "outputs": [],
   "source": [
    "mode_disp3 = auto.groupby(['make_model'])['displacement']\\\n",
    "              .transform(lambda x: x.mode()[0] if list(x.mode()) != [] else np.nan)"
   ]
  },
  {
   "cell_type": "code",
   "execution_count": 65,
   "metadata": {},
   "outputs": [],
   "source": [
    "auto[\"displacement\"] = auto[\"displacement\"].fillna(mode_disp3)"
   ]
  },
  {
   "cell_type": "markdown",
   "metadata": {},
   "source": [
    "* displacement column was filled according to groups hp, make_model, body_type"
   ]
  },
  {
   "cell_type": "markdown",
   "metadata": {},
   "source": [
    "## next inspection"
   ]
  },
  {
   "cell_type": "code",
   "execution_count": 66,
   "metadata": {},
   "outputs": [],
   "source": [
    "auto.drop([\"next_inspection_date\"],axis=1,inplace=True)"
   ]
  },
  {
   "cell_type": "markdown",
   "metadata": {},
   "source": [
    "* next_inspection_date column was dropped, since 77% of these column is null."
   ]
  },
  {
   "cell_type": "markdown",
   "metadata": {},
   "source": [
    "### Inspection New"
   ]
  },
  {
   "cell_type": "code",
   "execution_count": 67,
   "metadata": {},
   "outputs": [
    {
     "data": {
      "text/plain": [
       "NaN    11983\n",
       "Yes     3932\n",
       "Name: inspection_new, dtype: int64"
      ]
     },
     "execution_count": 67,
     "metadata": {},
     "output_type": "execute_result"
    }
   ],
   "source": [
    "auto['inspection_new'].value_counts(dropna=False)"
   ]
  },
  {
   "cell_type": "code",
   "execution_count": 68,
   "metadata": {},
   "outputs": [],
   "source": [
    "auto['inspection_new'] = auto['inspection_new'].fillna(0)"
   ]
  },
  {
   "cell_type": "code",
   "execution_count": 69,
   "metadata": {},
   "outputs": [],
   "source": [
    "auto.loc[auto['inspection_new'] == 'Yes', 'inspection_new'] = 1"
   ]
  },
  {
   "cell_type": "code",
   "execution_count": 70,
   "metadata": {},
   "outputs": [
    {
     "data": {
      "text/plain": [
       "0    11983\n",
       "1     3932\n",
       "Name: inspection_new, dtype: int64"
      ]
     },
     "execution_count": 70,
     "metadata": {},
     "output_type": "execute_result"
    }
   ],
   "source": [
    "auto['inspection_new'].value_counts(dropna=False)"
   ]
  },
  {
   "cell_type": "markdown",
   "metadata": {},
   "source": [
    "* In this column all null values were accepted as 'No' and converted to 0. 'Yes' values were converted to 1."
   ]
  },
  {
   "cell_type": "markdown",
   "metadata": {},
   "source": [
    "## weight"
   ]
  },
  {
   "cell_type": "code",
   "execution_count": 71,
   "metadata": {},
   "outputs": [],
   "source": [
    "mode_weight = auto.groupby(['make_model', 'displacement'])['weight']\\\n",
    "              .transform(lambda x: x.mode()[0] if list(x.mode()) != [] else np.nan)"
   ]
  },
  {
   "cell_type": "code",
   "execution_count": 72,
   "metadata": {},
   "outputs": [],
   "source": [
    "auto['weight'] = auto['weight'].fillna(mode_weight)"
   ]
  },
  {
   "cell_type": "code",
   "execution_count": 73,
   "metadata": {},
   "outputs": [],
   "source": [
    "mode_weight1 = auto.groupby(['make_model'])['weight']\\\n",
    "              .transform(lambda x: x.mode()[0] if list(x.mode()) != [] else np.nan)"
   ]
  },
  {
   "cell_type": "code",
   "execution_count": 74,
   "metadata": {},
   "outputs": [],
   "source": [
    "auto['weight'] = auto['weight'].fillna(mode_weight1)"
   ]
  },
  {
   "cell_type": "code",
   "execution_count": 75,
   "metadata": {},
   "outputs": [],
   "source": [
    "mode_weight2 = auto.groupby(['make_model', 'hp'])['weight']\\\n",
    "              .transform(lambda x: x.mode()[0] if list(x.mode()) != [] else np.nan)"
   ]
  },
  {
   "cell_type": "code",
   "execution_count": 76,
   "metadata": {},
   "outputs": [],
   "source": [
    "auto['weight'] = auto['weight'].fillna(mode_weight2)"
   ]
  },
  {
   "cell_type": "code",
   "execution_count": 77,
   "metadata": {},
   "outputs": [],
   "source": [
    "mode_weight3 = auto.groupby(['body_type'])['weight']\\\n",
    "              .transform(lambda x: x.mode()[0] if list(x.mode()) != [] else np.nan)"
   ]
  },
  {
   "cell_type": "code",
   "execution_count": 78,
   "metadata": {},
   "outputs": [],
   "source": [
    "auto['weight'] = auto['weight'].fillna(mode_weight3)"
   ]
  },
  {
   "cell_type": "markdown",
   "metadata": {},
   "source": [
    "* weight column was filled according to groups hp, make_model, body_type"
   ]
  },
  {
   "cell_type": "markdown",
   "metadata": {},
   "source": [
    "## cylinders"
   ]
  },
  {
   "cell_type": "code",
   "execution_count": 79,
   "metadata": {},
   "outputs": [],
   "source": [
    "mode_cylinders = auto.groupby(['make_model', 'displacement'])['cylinders']\\\n",
    "              .transform(lambda x: x.mode()[0] if list(x.mode()) != [] else np.nan)"
   ]
  },
  {
   "cell_type": "code",
   "execution_count": 80,
   "metadata": {},
   "outputs": [],
   "source": [
    "auto['cylinders'] = auto['cylinders'].fillna(mode_cylinders)"
   ]
  },
  {
   "cell_type": "code",
   "execution_count": 81,
   "metadata": {},
   "outputs": [],
   "source": [
    "mode_cylinders1 = auto.groupby(['make_model', 'weight'])['cylinders']\\\n",
    "              .transform(lambda x: x.mode()[0] if list(x.mode()) != [] else np.nan)"
   ]
  },
  {
   "cell_type": "code",
   "execution_count": 82,
   "metadata": {},
   "outputs": [],
   "source": [
    "auto['cylinders'] = auto['cylinders'].fillna(mode_cylinders1)"
   ]
  },
  {
   "cell_type": "code",
   "execution_count": 83,
   "metadata": {},
   "outputs": [],
   "source": [
    "mode_cylinders2 = auto.groupby(['make_model'])['cylinders']\\\n",
    "              .transform(lambda x: x.mode()[0] if list(x.mode()) != [] else np.nan)"
   ]
  },
  {
   "cell_type": "code",
   "execution_count": 84,
   "metadata": {},
   "outputs": [],
   "source": [
    "auto['cylinders'] = auto['cylinders'].fillna(mode_cylinders2)"
   ]
  },
  {
   "cell_type": "code",
   "execution_count": 85,
   "metadata": {},
   "outputs": [],
   "source": [
    "auto['cylinders'] = auto['cylinders'].fillna(4.0)"
   ]
  },
  {
   "cell_type": "markdown",
   "metadata": {},
   "source": [
    "* cylinders column was filled according to groups displacement, weight, make_mode"
   ]
  },
  {
   "cell_type": "markdown",
   "metadata": {},
   "source": [
    "## drive_chain"
   ]
  },
  {
   "cell_type": "code",
   "execution_count": 86,
   "metadata": {},
   "outputs": [],
   "source": [
    "mode_drive_chain = auto.groupby(['make_model', 'body_type'])['drive_chain']\\\n",
    "              .transform(lambda x: x.mode()[0] if list(x.mode()) != [] else np.nan)"
   ]
  },
  {
   "cell_type": "code",
   "execution_count": 87,
   "metadata": {},
   "outputs": [],
   "source": [
    "auto['drive_chain'] = auto['drive_chain'].fillna(mode_drive_chain)"
   ]
  },
  {
   "cell_type": "code",
   "execution_count": 88,
   "metadata": {},
   "outputs": [],
   "source": [
    "mode_drive_chain1 = auto.groupby(['make_model'])['drive_chain']\\\n",
    "              .transform(lambda x: x.mode()[0] if list(x.mode()) != [] else np.nan)"
   ]
  },
  {
   "cell_type": "code",
   "execution_count": 89,
   "metadata": {},
   "outputs": [],
   "source": [
    "auto['drive_chain'] = auto['drive_chain'].fillna(mode_drive_chain1)"
   ]
  },
  {
   "cell_type": "markdown",
   "metadata": {},
   "source": [
    "* drive_chain column was filled according to groups make_model and body type"
   ]
  },
  {
   "cell_type": "markdown",
   "metadata": {},
   "source": [
    "## fuel type"
   ]
  },
  {
   "cell_type": "code",
   "execution_count": 90,
   "metadata": {},
   "outputs": [
    {
     "data": {
      "text/plain": [
       "benzine    8546\n",
       "diesel     7296\n",
       "gas          64\n",
       "others        7\n",
       "NaN           2\n",
       "Name: fuel_type, dtype: int64"
      ]
     },
     "execution_count": 90,
     "metadata": {},
     "output_type": "execute_result"
    }
   ],
   "source": [
    "auto['fuel_type'].value_counts(dropna=False)"
   ]
  },
  {
   "cell_type": "code",
   "execution_count": 91,
   "metadata": {},
   "outputs": [],
   "source": [
    "auto['fuel_type'] = auto['fuel_type'].fillna('others')"
   ]
  },
  {
   "cell_type": "code",
   "execution_count": 92,
   "metadata": {},
   "outputs": [],
   "source": [
    "auto.loc[auto['fuel_type']=='others','fuel_type'] = 'gas and others'"
   ]
  },
  {
   "cell_type": "code",
   "execution_count": 93,
   "metadata": {},
   "outputs": [],
   "source": [
    "auto.loc[auto['fuel_type']=='gas','fuel_type'] = 'gas and others'"
   ]
  },
  {
   "cell_type": "markdown",
   "metadata": {},
   "source": [
    "## co2_emission"
   ]
  },
  {
   "cell_type": "code",
   "execution_count": 94,
   "metadata": {},
   "outputs": [],
   "source": [
    "mode_CO2 = auto.groupby(['make_model','displacement'])['co2_emission']\\\n",
    "              .transform(lambda x: x.mode()[0] if list(x.mode()) != [] else np.nan)"
   ]
  },
  {
   "cell_type": "code",
   "execution_count": 95,
   "metadata": {},
   "outputs": [],
   "source": [
    "auto['co2_emission'] = auto['co2_emission'].fillna(mode_CO2)"
   ]
  },
  {
   "cell_type": "code",
   "execution_count": 96,
   "metadata": {},
   "outputs": [],
   "source": [
    "mode_CO2_1 = auto.groupby(['make_model'])['co2_emission']\\\n",
    "              .transform(lambda x: x.mode()[0] if list(x.mode()) != [] else np.nan)"
   ]
  },
  {
   "cell_type": "code",
   "execution_count": 97,
   "metadata": {},
   "outputs": [],
   "source": [
    "auto['co2_emission'] = auto['co2_emission'].fillna(mode_CO2_1)"
   ]
  },
  {
   "cell_type": "code",
   "execution_count": 98,
   "metadata": {},
   "outputs": [],
   "source": [
    "mode_CO2_2 = auto.groupby(['body_type'])['co2_emission']\\\n",
    "              .transform(lambda x: x.mode()[0] if list(x.mode()) != [] else np.nan)"
   ]
  },
  {
   "cell_type": "code",
   "execution_count": 99,
   "metadata": {},
   "outputs": [],
   "source": [
    "auto['co2_emission'] = auto['co2_emission'].fillna(mode_CO2_2)"
   ]
  },
  {
   "cell_type": "markdown",
   "metadata": {},
   "source": [
    "* co2_emission column was filled according to groups make_model,displacement and body type"
   ]
  },
  {
   "cell_type": "markdown",
   "metadata": {},
   "source": [
    "### Emission Class"
   ]
  },
  {
   "cell_type": "code",
   "execution_count": 100,
   "metadata": {},
   "outputs": [],
   "source": [
    "mode_Emision_C= auto.groupby(['co2_emission'])['emission_class']\\\n",
    "              .transform(lambda x: x.mode()[0] if list(x.mode()) != [] else np.nan)"
   ]
  },
  {
   "cell_type": "code",
   "execution_count": 101,
   "metadata": {},
   "outputs": [],
   "source": [
    "auto['emission_class'] = auto['emission_class'].fillna(mode_Emision_C)"
   ]
  },
  {
   "cell_type": "code",
   "execution_count": 102,
   "metadata": {},
   "outputs": [],
   "source": [
    "mode_Emision_C1= auto.groupby(['age'])['emission_class']\\\n",
    "              .transform(lambda x: x.mode()[0] if list(x.mode()) != [] else np.nan)"
   ]
  },
  {
   "cell_type": "code",
   "execution_count": 103,
   "metadata": {},
   "outputs": [],
   "source": [
    "auto['emission_class'] = auto['emission_class'].fillna(mode_Emision_C1)"
   ]
  },
  {
   "cell_type": "markdown",
   "metadata": {},
   "source": [
    "* emission class column was filled according to groups co2 emission and age"
   ]
  },
  {
   "cell_type": "markdown",
   "metadata": {},
   "source": [
    "## gears"
   ]
  },
  {
   "cell_type": "code",
   "execution_count": 104,
   "metadata": {},
   "outputs": [],
   "source": [
    "mode_gears= auto.groupby(['make_model','gearing_type'])['gears']\\\n",
    "              .transform(lambda x: x.mode()[0] if list(x.mode()) != [] else np.nan)"
   ]
  },
  {
   "cell_type": "code",
   "execution_count": 105,
   "metadata": {},
   "outputs": [],
   "source": [
    "auto['gears'] = auto['gears'].fillna(mode_gears)"
   ]
  },
  {
   "cell_type": "code",
   "execution_count": 106,
   "metadata": {},
   "outputs": [],
   "source": [
    "mode_gears1= auto.groupby(['gearing_type'])['gears']\\\n",
    "              .transform(lambda x: x.mode()[0] if list(x.mode()) != [] else np.nan)"
   ]
  },
  {
   "cell_type": "code",
   "execution_count": 107,
   "metadata": {},
   "outputs": [],
   "source": [
    "auto['gears'] = auto['gears'].fillna(mode_gears1)"
   ]
  },
  {
   "cell_type": "markdown",
   "metadata": {},
   "source": [
    "* gears column was filled according to groups make model and gear type"
   ]
  },
  {
   "cell_type": "markdown",
   "metadata": {},
   "source": [
    "### Consumption Combined"
   ]
  },
  {
   "cell_type": "code",
   "execution_count": 108,
   "metadata": {},
   "outputs": [],
   "source": [
    "coms = ((auto['consumption_city']+auto['consumption_country'])/2)"
   ]
  },
  {
   "cell_type": "code",
   "execution_count": 109,
   "metadata": {},
   "outputs": [],
   "source": [
    "auto['consumption_comb'] = auto['consumption_comb'].fillna(coms)"
   ]
  },
  {
   "cell_type": "code",
   "execution_count": 110,
   "metadata": {},
   "outputs": [],
   "source": [
    "mode_Cons= auto.groupby(['co2_emission'])['consumption_comb']\\\n",
    "              .transform(lambda x: x.mode()[0] if list(x.mode()) != [] else np.nan)"
   ]
  },
  {
   "cell_type": "code",
   "execution_count": 111,
   "metadata": {},
   "outputs": [],
   "source": [
    "auto['consumption_comb'] = auto['consumption_comb'].fillna(mode_Cons)"
   ]
  },
  {
   "cell_type": "code",
   "execution_count": 112,
   "metadata": {},
   "outputs": [],
   "source": [
    "mode_Cons1= auto.groupby(['displacement'])['consumption_comb']\\\n",
    "              .transform(lambda x: x.mode()[0] if list(x.mode()) != [] else np.nan)"
   ]
  },
  {
   "cell_type": "code",
   "execution_count": 113,
   "metadata": {},
   "outputs": [],
   "source": [
    "auto['consumption_comb'] = auto['consumption_comb'].fillna(mode_Cons1)"
   ]
  },
  {
   "cell_type": "code",
   "execution_count": 114,
   "metadata": {},
   "outputs": [],
   "source": [
    "mode_Cons2= auto.groupby(['make_model'])['consumption_comb']\\\n",
    "              .transform(lambda x: x.mode()[0] if list(x.mode()) != [] else np.nan)"
   ]
  },
  {
   "cell_type": "code",
   "execution_count": 115,
   "metadata": {},
   "outputs": [],
   "source": [
    "auto['consumption_comb'] = auto['consumption_comb'].fillna(mode_Cons2)"
   ]
  },
  {
   "cell_type": "code",
   "execution_count": 116,
   "metadata": {},
   "outputs": [],
   "source": [
    "auto.drop(['consumption_city','consumption_country'],axis=1,inplace=True)"
   ]
  },
  {
   "cell_type": "markdown",
   "metadata": {},
   "source": [
    "* comsumption column first was filled with the mean of 'consumption_city','consumption_country' columns. Then was filled according to the column make_model."
   ]
  },
  {
   "cell_type": "markdown",
   "metadata": {},
   "source": [
    "## upholstery_color"
   ]
  },
  {
   "cell_type": "code",
   "execution_count": 117,
   "metadata": {},
   "outputs": [],
   "source": [
    "auto.drop('upholstery_color', axis=1, inplace=True)"
   ]
  },
  {
   "cell_type": "markdown",
   "metadata": {},
   "source": [
    "## Columns include null values"
   ]
  },
  {
   "cell_type": "code",
   "execution_count": 118,
   "metadata": {},
   "outputs": [
    {
     "data": {
      "text/plain": [
       "comfort_convenience     920\n",
       "entertainment_media    1374\n",
       "extras                 2962\n",
       "safety_security         982\n",
       "upholstery_material    4501\n",
       "dtype: int64"
      ]
     },
     "execution_count": 118,
     "metadata": {},
     "output_type": "execute_result"
    }
   ],
   "source": [
    "auto.isnull().sum()[auto.isnull().sum() != 0]"
   ]
  },
  {
   "cell_type": "markdown",
   "metadata": {},
   "source": [
    "* get_dummies() method will be applied to comfort_convenience, entertainment_media, extras, safety_security columns. Because of this nulls of this columns were not filled. Also upholstery_material column will be used to fill leather column after get_dummies()"
   ]
  },
  {
   "cell_type": "markdown",
   "metadata": {},
   "source": [
    "## Filled data was saved to a csv file called \"auto_scout_missing.csv\""
   ]
  },
  {
   "cell_type": "code",
   "execution_count": 119,
   "metadata": {},
   "outputs": [],
   "source": [
    "auto.to_csv(\"auto_scout_missing.csv\", index=False)"
   ]
  },
  {
   "cell_type": "code",
   "execution_count": null,
   "metadata": {},
   "outputs": [],
   "source": []
  }
 ],
 "metadata": {
  "kernelspec": {
   "display_name": "Python 3",
   "language": "python",
   "name": "python3"
  },
  "language_info": {
   "codemirror_mode": {
    "name": "ipython",
    "version": 3
   },
   "file_extension": ".py",
   "mimetype": "text/x-python",
   "name": "python",
   "nbconvert_exporter": "python",
   "pygments_lexer": "ipython3",
   "version": "3.8.5"
  }
 },
 "nbformat": 4,
 "nbformat_minor": 4
}
